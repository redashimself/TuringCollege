{
 "cells": [
  {
   "metadata": {
    "ExecuteTime": {
     "end_time": "2024-08-18T08:40:43.078185Z",
     "start_time": "2024-08-18T08:40:43.074782Z"
    }
   },
   "cell_type": "code",
   "source": [
    "# Reset the calculator\n",
    "\n",
    "from calculator import Calculator\n",
    "\n",
    "calc = Calculator()\n",
    "\n",
    "calc.add(123)\n",
    "calc.reset()\n",
    "print(f\"After reset: {calc.number_in_memory}\")\n"
   ],
   "id": "ddc9ee7dc3df528d",
   "outputs": [
    {
     "name": "stdout",
     "output_type": "stream",
     "text": [
      "After reset: 0\n"
     ]
    }
   ],
   "execution_count": 2
  },
  {
   "metadata": {
    "ExecuteTime": {
     "end_time": "2024-08-18T08:40:43.117215Z",
     "start_time": "2024-08-18T08:40:43.084095Z"
    }
   },
   "cell_type": "code",
   "source": [
    "# Addition\n",
    "\n",
    "from calculator import Calculator\n",
    "\n",
    "calc = Calculator()\n",
    "\n",
    "calc.add(5, 3, 2)\n",
    "print(f\"After adding 5, 3, and 2: {calc.number_in_memory}\")\n",
    "calc.reset()"
   ],
   "id": "626f442f0c2f7881",
   "outputs": [
    {
     "name": "stdout",
     "output_type": "stream",
     "text": [
      "After adding 5, 3, and 2: 10\n"
     ]
    },
    {
     "data": {
      "text/plain": [
       "<calculator.Calculator at 0x7ff4aa5918d0>"
      ]
     },
     "execution_count": 3,
     "metadata": {},
     "output_type": "execute_result"
    }
   ],
   "execution_count": 3
  },
  {
   "metadata": {
    "ExecuteTime": {
     "end_time": "2024-08-18T08:40:43.143004Z",
     "start_time": "2024-08-18T08:40:43.136343Z"
    }
   },
   "cell_type": "code",
   "source": [
    "# Subtraction\n",
    "\n",
    "from calculator import Calculator\n",
    "\n",
    "calc = Calculator()\n",
    "\n",
    "calc.subtract(4, 1)\n",
    "print(f\"After subtracting 4 and 1: {calc.number_in_memory}\")\n",
    "calc.reset()"
   ],
   "id": "c91a546fbebb8660",
   "outputs": [
    {
     "name": "stdout",
     "output_type": "stream",
     "text": [
      "After subtracting 4 and 1: -5\n"
     ]
    },
    {
     "data": {
      "text/plain": [
       "<calculator.Calculator at 0x7ff4aa5922c0>"
      ]
     },
     "execution_count": 4,
     "metadata": {},
     "output_type": "execute_result"
    }
   ],
   "execution_count": 4
  },
  {
   "metadata": {
    "ExecuteTime": {
     "end_time": "2024-08-18T08:42:43.238101Z",
     "start_time": "2024-08-18T08:42:43.234033Z"
    }
   },
   "cell_type": "code",
   "source": [
    "# Multiplication\n",
    "\n",
    "from calculator import Calculator\n",
    "\n",
    "calc = Calculator()\n",
    "\n",
    "initial_value = calc.add(10).number_in_memory\n",
    "calc.multiply(3, 2)\n",
    "print(f\"After multiplying {initial_value} by 3 and 2: {calc.number_in_memory}\")\n",
    "calc.reset()"
   ],
   "id": "a70de79f5b2d4535",
   "outputs": [
    {
     "name": "stdout",
     "output_type": "stream",
     "text": [
      "After multiplying 10 by 3 and 2: 60\n"
     ]
    },
    {
     "data": {
      "text/plain": [
       "<calculator.Calculator at 0x7ff4a920a6b0>"
      ]
     },
     "execution_count": 15,
     "metadata": {},
     "output_type": "execute_result"
    }
   ],
   "execution_count": 15
  },
  {
   "metadata": {
    "ExecuteTime": {
     "end_time": "2024-08-18T08:43:19.061129Z",
     "start_time": "2024-08-18T08:43:19.056627Z"
    }
   },
   "cell_type": "code",
   "source": [
    "# Division\n",
    "\n",
    "from calculator import Calculator\n",
    "\n",
    "calc = Calculator()\n",
    "\n",
    "initial_value = calc.add(100).number_in_memory\n",
    "calc.divide(5)\n",
    "print(f\"After dividing {initial_value} by 5: {calc.number_in_memory}\")\n",
    "calc.reset()\n"
   ],
   "id": "b59d9b124ff0da67",
   "outputs": [
    {
     "name": "stdout",
     "output_type": "stream",
     "text": [
      "After dividing 100 by 5: 20.0\n"
     ]
    },
    {
     "data": {
      "text/plain": [
       "<calculator.Calculator at 0x7ff4aa5937c0>"
      ]
     },
     "execution_count": 18,
     "metadata": {},
     "output_type": "execute_result"
    }
   ],
   "execution_count": 18
  },
  {
   "metadata": {
    "ExecuteTime": {
     "end_time": "2024-08-18T08:44:45.725776Z",
     "start_time": "2024-08-18T08:44:45.722172Z"
    }
   },
   "cell_type": "code",
   "source": [
    "# Root calculation\n",
    "\n",
    "from calculator import Calculator\n",
    "\n",
    "calc = Calculator()\n",
    "\n",
    "initial_value = calc.add(81).number_in_memory\n",
    "calc.root(2)\n",
    "print(f\"After calculating square root of {initial_value}: {calc.number_in_memory}\")\n",
    "calc.reset()"
   ],
   "id": "1ec23324dd64cf8d",
   "outputs": [
    {
     "name": "stdout",
     "output_type": "stream",
     "text": [
      "After calculating square root of 81: 9.0\n"
     ]
    },
    {
     "data": {
      "text/plain": [
       "<calculator.Calculator at 0x7ff4a920a7a0>"
      ]
     },
     "execution_count": 19,
     "metadata": {},
     "output_type": "execute_result"
    }
   ],
   "execution_count": 19
  },
  {
   "metadata": {
    "ExecuteTime": {
     "end_time": "2024-08-18T08:40:43.513763Z",
     "start_time": "2024-08-18T08:40:43.511503Z"
    }
   },
   "cell_type": "code",
   "source": [
    "# Error handling\n",
    "\n",
    "from calculator import Calculator\n",
    "\n",
    "calc = Calculator()\n",
    "\n",
    "try:\n",
    "    calc.divide(0)\n",
    "except ValueError as e:\n",
    "    print(f\"Error caught: {e}\")"
   ],
   "id": "358ca994d6012a99",
   "outputs": [
    {
     "name": "stdout",
     "output_type": "stream",
     "text": [
      "Error caught: Cannot divide by zero\n"
     ]
    }
   ],
   "execution_count": 8
  },
  {
   "metadata": {
    "ExecuteTime": {
     "end_time": "2024-08-18T08:45:18.745086Z",
     "start_time": "2024-08-18T08:45:18.740338Z"
    }
   },
   "cell_type": "code",
   "source": [
    "# Chained operations\n",
    "\n",
    "from calculator import Calculator\n",
    "\n",
    "calc = Calculator()\n",
    "\n",
    "# Demonstrate chained operations\n",
    "result = calc.add(10).multiply(2).subtract(5).divide(3).root(2).number_in_memory\n",
    "print(f\"Result of chained operations: {result}\")\n",
    "\n",
    "# Step-by-step demonstration\n",
    "calc.reset()\n",
    "print(\"Step-by-step chained operations:\")\n",
    "print(f\"Initial value: {calc.number_in_memory}\")\n",
    "print(f\"After adding 10: {calc.add(10).number_in_memory}\")\n",
    "print(f\"After multiplying by 2: {calc.multiply(2).number_in_memory}\")\n",
    "print(f\"After subtracting 5: {calc.subtract(5).number_in_memory}\")\n",
    "print(f\"After dividing by 3: {calc.divide(3).number_in_memory}\")\n",
    "print(f\"After taking square root: {calc.root(2).number_in_memory}\")\n",
    "\n",
    "# Error handling in chained operations\n",
    "try:\n",
    "    calc.reset().add(16).root(2).divide(0)\n",
    "except ValueError as e:\n",
    "    print(f\"Error caught: {e}\")\n",
    "\n",
    "# State is preserved after an error\n",
    "print(f\"Calculator memory after error: {calc.number_in_memory}\")"
   ],
   "id": "9d7a022f296608bf",
   "outputs": [
    {
     "name": "stdout",
     "output_type": "stream",
     "text": [
      "Result of chained operations: 2.23606797749979\n",
      "Step-by-step chained operations:\n",
      "Initial value: 0\n",
      "After adding 10: 10\n",
      "After multiplying by 2: 20\n",
      "After subtracting 5: 15\n",
      "After dividing by 3: 5.0\n",
      "After taking square root: 2.23606797749979\n",
      "Error caught: Cannot divide by zero\n",
      "Calculator memory after error: 4.0\n"
     ]
    }
   ],
   "execution_count": 21
  }
 ],
 "metadata": {
  "kernelspec": {
   "display_name": "Python 3",
   "language": "python",
   "name": "python3"
  },
  "language_info": {
   "codemirror_mode": {
    "name": "ipython",
    "version": 2
   },
   "file_extension": ".py",
   "mimetype": "text/x-python",
   "name": "python",
   "nbconvert_exporter": "python",
   "pygments_lexer": "ipython2",
   "version": "2.7.6"
  }
 },
 "nbformat": 4,
 "nbformat_minor": 5
}
