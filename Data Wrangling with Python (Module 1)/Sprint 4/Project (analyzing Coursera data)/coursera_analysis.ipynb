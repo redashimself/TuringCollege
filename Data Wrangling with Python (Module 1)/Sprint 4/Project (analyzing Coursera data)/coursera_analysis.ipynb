{
 "cells": [
  {
   "metadata": {},
   "cell_type": "markdown",
   "source": "",
   "id": "565152d79551fd63"
  },
  {
   "metadata": {},
   "cell_type": "markdown",
   "source": [
    "# Draft\n",
    "\n",
    "* I will aim for 15-20 questions for my analysis\n",
    "* The main goal is to analyze how difficulty, course rating and reviews are correlated\n",
    "* Use plotly express, more fancy stuff if needed\n",
    "* Use AI to guide me through the exercise as a tutor\n",
    "* At the end, make sure you incorporated feedback from the last sprint project\n",
    "\n",
    "Main goal: identify Opportunities for Course Development: The goal could be to find gaps in the current course offerings or areas where there's high demand but limited supply.\n",
    "\n",
    "\n",
    "> Typically you need to complete several courses/moduls under “Specializations” category. These courses are designed for a specific subject in mind, e.g. data analysis.\n",
    "\n",
    "Questions:\n",
    "\n",
    "\n",
    "-   What are the top 10 most enrolled courses, and what subjects do they cover?\n",
    "-   Which subject areas have the highest average enrollment but the fewest course offerings?\n",
    "-   Are there any difficulty levels (Beginner, Intermediate, Advanced) that are underrepresented in popular subject areas?\n",
    "-   Which specializations have the highest enrollment-to-course ratio, potentially indicating demand for more courses in that area?\n",
    "-   What are the emerging trends in course topics based on recent additions to the catalog?\n",
    "-   Are there any high-rated courses with relatively low enrollment, suggesting potential for growth with better marketing?\n",
    "-   Which languages, other than English, show high demand but have limited course offerings?\n",
    "-   Are there any gaps in the difficulty progression (Beginner to Advanced) within popular subject areas?\n",
    "-   What subject areas have the highest ratings but fewer course options compared to other subjects?\n",
    "-   Are there any in-demand skills or technologies that are underrepresented in the current course offerings?\n",
    "-   Which organizations have the highest-rated courses, and are there subject areas they're not covering?\n",
    "-   What is the distribution of course types (individual courses, specializations, professional certificates) across different subjects, and are there imbalances?\n",
    "-   Are there any correlations between course characteristics (e.g., duration, difficulty) and enrollment that could inform new course design?\n",
    "-   What topics are covered in the courses with the highest enrollment-to-rating ratio?\n",
    "-   Are there any subject areas with high enrollment but lower average ratings, indicating a need for improved course quality?\n",
    "-   What are the most common prerequisites for advanced courses, and are there gaps in preparing students for these?\n",
    "-   Are there any successful course formats or structures that could be applied to other subject areas?\n",
    "-   What is the distribution of course durations, and is there a sweet spot that could inform new course development?\n",
    "-   Are there any interdisciplinary topics that are currently underrepresented in the course catalog?\n",
    "-   What skills or knowledge areas are frequently mentioned in course descriptions of popular courses but don't have dedicated courses?\n"
   ],
   "id": "12f8bbca76788d59"
  },
  {
   "metadata": {
    "ExecuteTime": {
     "end_time": "2024-10-12T08:05:29.239292Z",
     "start_time": "2024-10-12T08:05:29.185233Z"
    }
   },
   "cell_type": "code",
   "source": [
    "import pandas as pd\n",
    "import matplotlib.pyplot as plt\n",
    "import plotly.express as px\n",
    "import seaborn as sns\n",
    "\n",
    "from helpers import strip_spaces, lowercase_data, convert_metric_prefix_to_numeric\n",
    "\n",
    "df = pd.read_csv(\"coursera_data.csv\", index_col=0)\n",
    "\n",
    "df.head()"
   ],
   "id": "ff41203ce8fe4d05",
   "outputs": [
    {
     "data": {
      "text/plain": [
       "                                          course_title  \\\n",
       "134  (ISC)² Systems Security Certified Practitioner...   \n",
       "743  A Crash Course in Causality:  Inferring Causal...   \n",
       "874                     A Crash Course in Data Science   \n",
       "413                            A Law Student's Toolkit   \n",
       "635                A Life of Happiness and Fulfillment   \n",
       "\n",
       "            course_organization course_Certificate_type  course_rating  \\\n",
       "134                      (ISC)²          SPECIALIZATION            4.7   \n",
       "743  University of Pennsylvania                  COURSE            4.7   \n",
       "874    Johns Hopkins University                  COURSE            4.5   \n",
       "413             Yale University                  COURSE            4.7   \n",
       "635   Indian School of Business                  COURSE            4.8   \n",
       "\n",
       "    course_difficulty course_students_enrolled  \n",
       "134          Beginner                     5.3k  \n",
       "743      Intermediate                      17k  \n",
       "874             Mixed                     130k  \n",
       "413             Mixed                      91k  \n",
       "635             Mixed                     320k  "
      ],
      "text/html": [
       "<div>\n",
       "<style scoped>\n",
       "    .dataframe tbody tr th:only-of-type {\n",
       "        vertical-align: middle;\n",
       "    }\n",
       "\n",
       "    .dataframe tbody tr th {\n",
       "        vertical-align: top;\n",
       "    }\n",
       "\n",
       "    .dataframe thead th {\n",
       "        text-align: right;\n",
       "    }\n",
       "</style>\n",
       "<table border=\"1\" class=\"dataframe\">\n",
       "  <thead>\n",
       "    <tr style=\"text-align: right;\">\n",
       "      <th></th>\n",
       "      <th>course_title</th>\n",
       "      <th>course_organization</th>\n",
       "      <th>course_Certificate_type</th>\n",
       "      <th>course_rating</th>\n",
       "      <th>course_difficulty</th>\n",
       "      <th>course_students_enrolled</th>\n",
       "    </tr>\n",
       "  </thead>\n",
       "  <tbody>\n",
       "    <tr>\n",
       "      <th>134</th>\n",
       "      <td>(ISC)² Systems Security Certified Practitioner...</td>\n",
       "      <td>(ISC)²</td>\n",
       "      <td>SPECIALIZATION</td>\n",
       "      <td>4.7</td>\n",
       "      <td>Beginner</td>\n",
       "      <td>5.3k</td>\n",
       "    </tr>\n",
       "    <tr>\n",
       "      <th>743</th>\n",
       "      <td>A Crash Course in Causality:  Inferring Causal...</td>\n",
       "      <td>University of Pennsylvania</td>\n",
       "      <td>COURSE</td>\n",
       "      <td>4.7</td>\n",
       "      <td>Intermediate</td>\n",
       "      <td>17k</td>\n",
       "    </tr>\n",
       "    <tr>\n",
       "      <th>874</th>\n",
       "      <td>A Crash Course in Data Science</td>\n",
       "      <td>Johns Hopkins University</td>\n",
       "      <td>COURSE</td>\n",
       "      <td>4.5</td>\n",
       "      <td>Mixed</td>\n",
       "      <td>130k</td>\n",
       "    </tr>\n",
       "    <tr>\n",
       "      <th>413</th>\n",
       "      <td>A Law Student's Toolkit</td>\n",
       "      <td>Yale University</td>\n",
       "      <td>COURSE</td>\n",
       "      <td>4.7</td>\n",
       "      <td>Mixed</td>\n",
       "      <td>91k</td>\n",
       "    </tr>\n",
       "    <tr>\n",
       "      <th>635</th>\n",
       "      <td>A Life of Happiness and Fulfillment</td>\n",
       "      <td>Indian School of Business</td>\n",
       "      <td>COURSE</td>\n",
       "      <td>4.8</td>\n",
       "      <td>Mixed</td>\n",
       "      <td>320k</td>\n",
       "    </tr>\n",
       "  </tbody>\n",
       "</table>\n",
       "</div>"
      ]
     },
     "execution_count": 1,
     "metadata": {},
     "output_type": "execute_result"
    }
   ],
   "execution_count": 1
  },
  {
   "metadata": {},
   "cell_type": "markdown",
   "source": "## Let's clean the data and prepare it for analysis",
   "id": "ad330a06ff568dca"
  },
  {
   "metadata": {
    "ExecuteTime": {
     "end_time": "2024-10-12T08:05:29.283525Z",
     "start_time": "2024-10-12T08:05:29.273309Z"
    }
   },
   "cell_type": "code",
   "source": [
    "df = lowercase_data(df)\n",
    "df = strip_spaces(df)\n",
    "\n",
    "# Convert numeric values from e.g. '48k' to '48000' whole numbers for `course_students_enrolled`\n",
    "df['course_students_enrolled'] = convert_metric_prefix_to_numeric(df['course_students_enrolled'])"
   ],
   "id": "15fd9673bb55bac8",
   "outputs": [],
   "execution_count": 2
  },
  {
   "metadata": {
    "ExecuteTime": {
     "end_time": "2024-10-12T08:05:29.322946Z",
     "start_time": "2024-10-12T08:05:29.319471Z"
    }
   },
   "cell_type": "code",
   "source": [
    "missing_values = pd.Series(df.isnull().sum(), name=\"Missing Values\")\n",
    "missing_values"
   ],
   "id": "3af338166fd6f1fa",
   "outputs": [
    {
     "data": {
      "text/plain": [
       "course_title                0\n",
       "course_organization         0\n",
       "course_certificate_type     0\n",
       "course_rating               0\n",
       "course_difficulty           0\n",
       "course_students_enrolled    4\n",
       "Name: Missing Values, dtype: int64"
      ]
     },
     "execution_count": 3,
     "metadata": {},
     "output_type": "execute_result"
    }
   ],
   "execution_count": 3
  },
  {
   "metadata": {
    "ExecuteTime": {
     "end_time": "2024-10-12T08:05:29.385942Z",
     "start_time": "2024-10-12T08:05:29.381034Z"
    }
   },
   "cell_type": "code",
   "source": [
    "duplicate_values = pd.Series(df.duplicated().sum(), name=\"Duplicate Values\")\n",
    "duplicate_values"
   ],
   "id": "9825c546cc7c5128",
   "outputs": [
    {
     "data": {
      "text/plain": [
       "0    0\n",
       "Name: Duplicate Values, dtype: int64"
      ]
     },
     "execution_count": 4,
     "metadata": {},
     "output_type": "execute_result"
    }
   ],
   "execution_count": 4
  },
  {
   "metadata": {
    "ExecuteTime": {
     "end_time": "2024-10-12T08:05:29.449991Z",
     "start_time": "2024-10-12T08:05:29.446540Z"
    }
   },
   "cell_type": "code",
   "source": [
    "# Name index column to 'id' for clarity\n",
    "df = df.reset_index().rename(columns={'index': 'id'}).set_index('id')"
   ],
   "id": "729b4be0933a7101",
   "outputs": [],
   "execution_count": 5
  },
  {
   "metadata": {},
   "cell_type": "markdown",
   "source": "### We see that there no duplicate or no missing values, so we won't be handling them. Other data looks OK.",
   "id": "ffbf67b57fcd514"
  },
  {
   "metadata": {},
   "cell_type": "markdown",
   "source": "# Now, let's try to find any gaps in the market by answering the questions below",
   "id": "f76b0258d342a3d4"
  },
  {
   "metadata": {},
   "cell_type": "markdown",
   "source": "### What are the top 10 most enrolled courses, and what subjects do they cover?",
   "id": "8060b3c73a5cefc3"
  },
  {
   "metadata": {
    "ExecuteTime": {
     "end_time": "2024-10-12T08:05:52.279855Z",
     "start_time": "2024-10-12T08:05:52.276686Z"
    }
   },
   "cell_type": "code",
   "source": [
    "top_10_enrolled_courses = df.groupby('course_students_enrolled')\n",
    "top_10_enrolled_courses"
   ],
   "id": "5ffdbedc6ca2f3aa",
   "outputs": [
    {
     "data": {
      "text/plain": [
       "<pandas.core.groupby.generic.DataFrameGroupBy object at 0x751930dee6f0>"
      ]
     },
     "execution_count": 7,
     "metadata": {},
     "output_type": "execute_result"
    }
   ],
   "execution_count": 7
  }
 ],
 "metadata": {
  "kernelspec": {
   "display_name": "Python 3",
   "language": "python",
   "name": "python3"
  },
  "language_info": {
   "codemirror_mode": {
    "name": "ipython",
    "version": 2
   },
   "file_extension": ".py",
   "mimetype": "text/x-python",
   "name": "python",
   "nbconvert_exporter": "python",
   "pygments_lexer": "ipython2",
   "version": "2.7.6"
  }
 },
 "nbformat": 4,
 "nbformat_minor": 5
}
