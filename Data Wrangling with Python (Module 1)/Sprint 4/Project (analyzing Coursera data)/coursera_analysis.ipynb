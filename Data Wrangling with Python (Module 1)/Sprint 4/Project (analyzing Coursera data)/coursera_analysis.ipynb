{
 "cells": [
  {
   "cell_type": "markdown",
   "id": "565152d79551fd63",
   "metadata": {},
   "source": []
  },
  {
   "cell_type": "markdown",
   "id": "12f8bbca76788d59",
   "metadata": {},
   "source": [
    "# Draft\n",
    "\n",
    "* I will aim for 15-20 questions for my analysis\n",
    "* The main goal is to analyze how difficulty, course rating and reviews are correlated\n",
    "* Use plotly express, more fancy stuff if needed\n",
    "* Use AI to guide me through the exercise as a tutor\n",
    "* At the end, make sure you incorporated feedback from the last sprint project\n",
    "\n",
    "Notes: Plotly express, boxplots\n",
    "\n",
    "Main goal: identify opportunities for new data science courses: areas where there's high demand but limited supply.\n",
    "\n",
    "\n",
    "> Typically you need to complete several courses/moduls under “Specializations” category. These courses are designed for a specific subject in mind, e.g. data analysis.\n",
    "\n",
    "Questions:\n",
    "\n",
    "\n",
    "-   What are the top 10 most enrolled courses, and what subjects do they cover?\n",
    "-   Which subject areas have the highest average enrollment but the fewest course offerings?\n",
    "-   Are there any difficulty levels (Beginner, Intermediate, Advanced) that are underrepresented in popular subject areas?\n",
    "-   Which specializations have the highest enrollment-to-course ratio, potentially indicating demand for more courses in that area?\n",
    "-   Are there any high-rated courses with relatively low enrollment, suggesting potential for growth with better marketing?\n",
    "-   Which languages, other than English, show high demand but have limited course offerings?\n",
    "-   Are there any gaps in the difficulty progression (Beginner to Advanced) within popular subject areas?\n",
    "-   What subject areas have the highest ratings but fewer course options compared to other subjects?\n",
    "-   Which organizations have the highest-rated courses, and are there subject areas they're not covering?\n",
    "-   What is the distribution of course types (individual courses, specializations, professional certificates) across different subjects, and are there imbalances?\n",
    "-   What topics are covered in the courses with the highest enrollment-to-rating ratio?\n",
    "-   Are there any subject areas with high enrollment but lower average ratings, indicating a need for improved course quality?\n",
    "-   Are there any interdisciplinary topics that are currently underrepresented in the course catalog?\n",
    "\n",
    "- Conclusions\n"
   ]
  },
  {
   "cell_type": "code",
   "id": "ff41203ce8fe4d05",
   "metadata": {
    "ExecuteTime": {
     "end_time": "2024-10-14T05:39:52.907707Z",
     "start_time": "2024-10-14T05:39:52.709656Z"
    }
   },
   "source": [
    "import pandas as pd\n",
    "from pytrends.request import TrendReq\n",
    "\n",
    "pytrend = TrendReq()\n",
    "import matplotlib.pyplot as plt\n",
    "import plotly.express as px\n",
    "import seaborn as sns\n",
    "\n",
    "from helpers import strip_spaces, lowercase_data, convert_metric_prefix_to_numeric\n",
    "\n",
    "df = pd.read_csv(\"coursera_data.csv\", index_col=0)\n",
    "\n",
    "df.head()"
   ],
   "outputs": [
    {
     "data": {
      "text/plain": [
       "                                          course_title  \\\n",
       "134  (ISC)² Systems Security Certified Practitioner...   \n",
       "743  A Crash Course in Causality:  Inferring Causal...   \n",
       "874                     A Crash Course in Data Science   \n",
       "413                            A Law Student's Toolkit   \n",
       "635                A Life of Happiness and Fulfillment   \n",
       "\n",
       "            course_organization course_Certificate_type  course_rating  \\\n",
       "134                      (ISC)²          SPECIALIZATION            4.7   \n",
       "743  University of Pennsylvania                  COURSE            4.7   \n",
       "874    Johns Hopkins University                  COURSE            4.5   \n",
       "413             Yale University                  COURSE            4.7   \n",
       "635   Indian School of Business                  COURSE            4.8   \n",
       "\n",
       "    course_difficulty course_students_enrolled  \n",
       "134          Beginner                     5.3k  \n",
       "743      Intermediate                      17k  \n",
       "874             Mixed                     130k  \n",
       "413             Mixed                      91k  \n",
       "635             Mixed                     320k  "
      ],
      "text/html": [
       "<div>\n",
       "<style scoped>\n",
       "    .dataframe tbody tr th:only-of-type {\n",
       "        vertical-align: middle;\n",
       "    }\n",
       "\n",
       "    .dataframe tbody tr th {\n",
       "        vertical-align: top;\n",
       "    }\n",
       "\n",
       "    .dataframe thead th {\n",
       "        text-align: right;\n",
       "    }\n",
       "</style>\n",
       "<table border=\"1\" class=\"dataframe\">\n",
       "  <thead>\n",
       "    <tr style=\"text-align: right;\">\n",
       "      <th></th>\n",
       "      <th>course_title</th>\n",
       "      <th>course_organization</th>\n",
       "      <th>course_Certificate_type</th>\n",
       "      <th>course_rating</th>\n",
       "      <th>course_difficulty</th>\n",
       "      <th>course_students_enrolled</th>\n",
       "    </tr>\n",
       "  </thead>\n",
       "  <tbody>\n",
       "    <tr>\n",
       "      <th>134</th>\n",
       "      <td>(ISC)² Systems Security Certified Practitioner...</td>\n",
       "      <td>(ISC)²</td>\n",
       "      <td>SPECIALIZATION</td>\n",
       "      <td>4.7</td>\n",
       "      <td>Beginner</td>\n",
       "      <td>5.3k</td>\n",
       "    </tr>\n",
       "    <tr>\n",
       "      <th>743</th>\n",
       "      <td>A Crash Course in Causality:  Inferring Causal...</td>\n",
       "      <td>University of Pennsylvania</td>\n",
       "      <td>COURSE</td>\n",
       "      <td>4.7</td>\n",
       "      <td>Intermediate</td>\n",
       "      <td>17k</td>\n",
       "    </tr>\n",
       "    <tr>\n",
       "      <th>874</th>\n",
       "      <td>A Crash Course in Data Science</td>\n",
       "      <td>Johns Hopkins University</td>\n",
       "      <td>COURSE</td>\n",
       "      <td>4.5</td>\n",
       "      <td>Mixed</td>\n",
       "      <td>130k</td>\n",
       "    </tr>\n",
       "    <tr>\n",
       "      <th>413</th>\n",
       "      <td>A Law Student's Toolkit</td>\n",
       "      <td>Yale University</td>\n",
       "      <td>COURSE</td>\n",
       "      <td>4.7</td>\n",
       "      <td>Mixed</td>\n",
       "      <td>91k</td>\n",
       "    </tr>\n",
       "    <tr>\n",
       "      <th>635</th>\n",
       "      <td>A Life of Happiness and Fulfillment</td>\n",
       "      <td>Indian School of Business</td>\n",
       "      <td>COURSE</td>\n",
       "      <td>4.8</td>\n",
       "      <td>Mixed</td>\n",
       "      <td>320k</td>\n",
       "    </tr>\n",
       "  </tbody>\n",
       "</table>\n",
       "</div>"
      ]
     },
     "execution_count": 2,
     "metadata": {},
     "output_type": "execute_result"
    }
   ],
   "execution_count": 2
  },
  {
   "cell_type": "markdown",
   "id": "ad330a06ff568dca",
   "metadata": {},
   "source": [
    "## Let's clean the data and prepare it for analysis"
   ]
  },
  {
   "cell_type": "code",
   "id": "15fd9673bb55bac8",
   "metadata": {
    "ExecuteTime": {
     "end_time": "2024-10-14T05:39:52.947543Z",
     "start_time": "2024-10-14T05:39:52.930139Z"
    }
   },
   "source": [
    "df = lowercase_data(df)\n",
    "df = strip_spaces(df)\n",
    "\n",
    "# Convert numeric values from e.g. '48k' to '48000' whole numbers for `course_students_enrolled`\n",
    "df['course_students_enrolled'] = convert_metric_prefix_to_numeric(df['course_students_enrolled'])\n",
    "df.head()"
   ],
   "outputs": [
    {
     "data": {
      "text/plain": [
       "                                          course_title  \\\n",
       "134  (isc)² systems security certified practitioner...   \n",
       "743  a crash course in causality:  inferring causal...   \n",
       "874                     a crash course in data science   \n",
       "413                            a law student's toolkit   \n",
       "635                a life of happiness and fulfillment   \n",
       "\n",
       "            course_organization course_certificate_type  course_rating  \\\n",
       "134                      (isc)²          specialization            4.7   \n",
       "743  university of pennsylvania                  course            4.7   \n",
       "874    johns hopkins university                  course            4.5   \n",
       "413             yale university                  course            4.7   \n",
       "635   indian school of business                  course            4.8   \n",
       "\n",
       "    course_difficulty  course_students_enrolled  \n",
       "134          beginner                    5300.0  \n",
       "743      intermediate                   17000.0  \n",
       "874             mixed                  130000.0  \n",
       "413             mixed                   91000.0  \n",
       "635             mixed                  320000.0  "
      ],
      "text/html": [
       "<div>\n",
       "<style scoped>\n",
       "    .dataframe tbody tr th:only-of-type {\n",
       "        vertical-align: middle;\n",
       "    }\n",
       "\n",
       "    .dataframe tbody tr th {\n",
       "        vertical-align: top;\n",
       "    }\n",
       "\n",
       "    .dataframe thead th {\n",
       "        text-align: right;\n",
       "    }\n",
       "</style>\n",
       "<table border=\"1\" class=\"dataframe\">\n",
       "  <thead>\n",
       "    <tr style=\"text-align: right;\">\n",
       "      <th></th>\n",
       "      <th>course_title</th>\n",
       "      <th>course_organization</th>\n",
       "      <th>course_certificate_type</th>\n",
       "      <th>course_rating</th>\n",
       "      <th>course_difficulty</th>\n",
       "      <th>course_students_enrolled</th>\n",
       "    </tr>\n",
       "  </thead>\n",
       "  <tbody>\n",
       "    <tr>\n",
       "      <th>134</th>\n",
       "      <td>(isc)² systems security certified practitioner...</td>\n",
       "      <td>(isc)²</td>\n",
       "      <td>specialization</td>\n",
       "      <td>4.7</td>\n",
       "      <td>beginner</td>\n",
       "      <td>5300.0</td>\n",
       "    </tr>\n",
       "    <tr>\n",
       "      <th>743</th>\n",
       "      <td>a crash course in causality:  inferring causal...</td>\n",
       "      <td>university of pennsylvania</td>\n",
       "      <td>course</td>\n",
       "      <td>4.7</td>\n",
       "      <td>intermediate</td>\n",
       "      <td>17000.0</td>\n",
       "    </tr>\n",
       "    <tr>\n",
       "      <th>874</th>\n",
       "      <td>a crash course in data science</td>\n",
       "      <td>johns hopkins university</td>\n",
       "      <td>course</td>\n",
       "      <td>4.5</td>\n",
       "      <td>mixed</td>\n",
       "      <td>130000.0</td>\n",
       "    </tr>\n",
       "    <tr>\n",
       "      <th>413</th>\n",
       "      <td>a law student's toolkit</td>\n",
       "      <td>yale university</td>\n",
       "      <td>course</td>\n",
       "      <td>4.7</td>\n",
       "      <td>mixed</td>\n",
       "      <td>91000.0</td>\n",
       "    </tr>\n",
       "    <tr>\n",
       "      <th>635</th>\n",
       "      <td>a life of happiness and fulfillment</td>\n",
       "      <td>indian school of business</td>\n",
       "      <td>course</td>\n",
       "      <td>4.8</td>\n",
       "      <td>mixed</td>\n",
       "      <td>320000.0</td>\n",
       "    </tr>\n",
       "  </tbody>\n",
       "</table>\n",
       "</div>"
      ]
     },
     "execution_count": 3,
     "metadata": {},
     "output_type": "execute_result"
    }
   ],
   "execution_count": 3
  },
  {
   "cell_type": "code",
   "id": "3af338166fd6f1fa",
   "metadata": {
    "ExecuteTime": {
     "end_time": "2024-10-14T05:39:52.978569Z",
     "start_time": "2024-10-14T05:39:52.975346Z"
    }
   },
   "source": [
    "missing_values = pd.Series(df.isnull().sum(), name=\"Missing Values\")\n",
    "missing_values"
   ],
   "outputs": [
    {
     "data": {
      "text/plain": [
       "course_title                0\n",
       "course_organization         0\n",
       "course_certificate_type     0\n",
       "course_rating               0\n",
       "course_difficulty           0\n",
       "course_students_enrolled    0\n",
       "Name: Missing Values, dtype: int64"
      ]
     },
     "execution_count": 4,
     "metadata": {},
     "output_type": "execute_result"
    }
   ],
   "execution_count": 4
  },
  {
   "cell_type": "code",
   "id": "9825c546cc7c5128",
   "metadata": {
    "ExecuteTime": {
     "end_time": "2024-10-14T05:39:53.054750Z",
     "start_time": "2024-10-14T05:39:53.050955Z"
    }
   },
   "source": [
    "duplicate_values = pd.Series(df.duplicated().sum(), name=\"Duplicate Values\")\n",
    "duplicate_values"
   ],
   "outputs": [
    {
     "data": {
      "text/plain": [
       "0    0\n",
       "Name: Duplicate Values, dtype: int64"
      ]
     },
     "execution_count": 5,
     "metadata": {},
     "output_type": "execute_result"
    }
   ],
   "execution_count": 5
  },
  {
   "cell_type": "code",
   "id": "729b4be0933a7101",
   "metadata": {
    "ExecuteTime": {
     "end_time": "2024-10-14T05:39:53.198930Z",
     "start_time": "2024-10-14T05:39:53.196132Z"
    }
   },
   "source": [
    "# Name index column to 'id' for clarity\n",
    "df = df.reset_index().rename(columns={'index': 'id'}).set_index('id')"
   ],
   "outputs": [],
   "execution_count": 6
  },
  {
   "cell_type": "markdown",
   "id": "ffbf67b57fcd514",
   "metadata": {},
   "source": [
    "We see that there no duplicate or no missing values, so we won't be handling them. Other data looks OK."
   ]
  },
  {
   "cell_type": "markdown",
   "id": "f76b0258d342a3d4",
   "metadata": {},
   "source": [
    "# Now, let's try to find any gaps in the market by answering the questions below"
   ]
  },
  {
   "cell_type": "markdown",
   "id": "8060b3c73a5cefc3",
   "metadata": {},
   "source": [
    "### What are the top 10 most enrolled courses, and what subjects do they cover?"
   ]
  },
  {
   "cell_type": "code",
   "id": "657571cf42cb9fd8",
   "metadata": {
    "ExecuteTime": {
     "end_time": "2024-10-14T05:39:53.275712Z",
     "start_time": "2024-10-14T05:39:53.269474Z"
    }
   },
   "source": [
    "top_10_enrolled_courses = df[['course_title', 'course_students_enrolled']].nlargest(10, 'course_students_enrolled')\n",
    "top_10_enrolled_courses\n"
   ],
   "outputs": [
    {
     "data": {
      "text/plain": [
       "                                          course_title  \\\n",
       "id                                                       \n",
       "6                                     machine learning   \n",
       "2                            the science of well-being   \n",
       "3                                 python for everybody   \n",
       "47   programming for everybody (getting started wit...   \n",
       "13                                        data science   \n",
       "44                                      career success   \n",
       "175                     english for career development   \n",
       "40   successful negotiation: essential strategies a...   \n",
       "15                   data science: foundations using r   \n",
       "5                                        deep learning   \n",
       "\n",
       "     course_students_enrolled  \n",
       "id                             \n",
       "6                   3200000.0  \n",
       "2                   2500000.0  \n",
       "3                   1500000.0  \n",
       "47                  1300000.0  \n",
       "13                   830000.0  \n",
       "44                   790000.0  \n",
       "175                  760000.0  \n",
       "40                   750000.0  \n",
       "15                   740000.0  \n",
       "5                    690000.0  "
      ],
      "text/html": [
       "<div>\n",
       "<style scoped>\n",
       "    .dataframe tbody tr th:only-of-type {\n",
       "        vertical-align: middle;\n",
       "    }\n",
       "\n",
       "    .dataframe tbody tr th {\n",
       "        vertical-align: top;\n",
       "    }\n",
       "\n",
       "    .dataframe thead th {\n",
       "        text-align: right;\n",
       "    }\n",
       "</style>\n",
       "<table border=\"1\" class=\"dataframe\">\n",
       "  <thead>\n",
       "    <tr style=\"text-align: right;\">\n",
       "      <th></th>\n",
       "      <th>course_title</th>\n",
       "      <th>course_students_enrolled</th>\n",
       "    </tr>\n",
       "    <tr>\n",
       "      <th>id</th>\n",
       "      <th></th>\n",
       "      <th></th>\n",
       "    </tr>\n",
       "  </thead>\n",
       "  <tbody>\n",
       "    <tr>\n",
       "      <th>6</th>\n",
       "      <td>machine learning</td>\n",
       "      <td>3200000.0</td>\n",
       "    </tr>\n",
       "    <tr>\n",
       "      <th>2</th>\n",
       "      <td>the science of well-being</td>\n",
       "      <td>2500000.0</td>\n",
       "    </tr>\n",
       "    <tr>\n",
       "      <th>3</th>\n",
       "      <td>python for everybody</td>\n",
       "      <td>1500000.0</td>\n",
       "    </tr>\n",
       "    <tr>\n",
       "      <th>47</th>\n",
       "      <td>programming for everybody (getting started wit...</td>\n",
       "      <td>1300000.0</td>\n",
       "    </tr>\n",
       "    <tr>\n",
       "      <th>13</th>\n",
       "      <td>data science</td>\n",
       "      <td>830000.0</td>\n",
       "    </tr>\n",
       "    <tr>\n",
       "      <th>44</th>\n",
       "      <td>career success</td>\n",
       "      <td>790000.0</td>\n",
       "    </tr>\n",
       "    <tr>\n",
       "      <th>175</th>\n",
       "      <td>english for career development</td>\n",
       "      <td>760000.0</td>\n",
       "    </tr>\n",
       "    <tr>\n",
       "      <th>40</th>\n",
       "      <td>successful negotiation: essential strategies a...</td>\n",
       "      <td>750000.0</td>\n",
       "    </tr>\n",
       "    <tr>\n",
       "      <th>15</th>\n",
       "      <td>data science: foundations using r</td>\n",
       "      <td>740000.0</td>\n",
       "    </tr>\n",
       "    <tr>\n",
       "      <th>5</th>\n",
       "      <td>deep learning</td>\n",
       "      <td>690000.0</td>\n",
       "    </tr>\n",
       "  </tbody>\n",
       "</table>\n",
       "</div>"
      ]
     },
     "execution_count": 7,
     "metadata": {},
     "output_type": "execute_result"
    }
   ],
   "execution_count": 7
  },
  {
   "cell_type": "markdown",
   "id": "3aa2897534b0966b",
   "metadata": {},
   "source": [
    "We see broad categories\n",
    "- Data Science (AI, Machine Learning, deep learning)\n",
    "- Programming\n",
    "- Career\n",
    "- Business"
   ]
  },
  {
   "cell_type": "markdown",
   "id": "95a3a1aff4315670",
   "metadata": {},
   "source": [
    "### Which subject areas have the highest average enrollment but the fewest course offerings?"
   ]
  },
  {
   "cell_type": "code",
   "id": "25cb2fafea0069af",
   "metadata": {
    "ExecuteTime": {
     "end_time": "2024-10-14T05:39:53.390732Z",
     "start_time": "2024-10-14T05:39:53.385668Z"
    }
   },
   "source": [
    "# TODO change calculation\n",
    "subject_areas = pd.Series(df.groupby('course_organization')['course_students_enrolled'].mean().nlargest(10))\n",
    "subject_areas"
   ],
   "outputs": [
    {
     "data": {
      "text/plain": [
       "course_organization\n",
       "stanford university                             303375.000000\n",
       "yale university                                 232470.588235\n",
       "mcmaster university                             230000.000000\n",
       "google - spectrum sharing                       210000.000000\n",
       "ludwig-maximilians-universität münchen (lmu)    192500.000000\n",
       "école polytechnique                             190000.000000\n",
       "university of michigan                          181407.317073\n",
       "georgia institute of technology                 181300.000000\n",
       "deeplearning.ai                                 178962.500000\n",
       "university of washington                        167400.000000\n",
       "Name: course_students_enrolled, dtype: float64"
      ]
     },
     "execution_count": 8,
     "metadata": {},
     "output_type": "execute_result"
    }
   ],
   "execution_count": 8
  },
  {
   "cell_type": "markdown",
   "id": "f8452524326147cf",
   "metadata": {},
   "source": []
  },
  {
   "cell_type": "markdown",
   "id": "42ef7ef46eeaf317",
   "metadata": {},
   "source": [
    "### Are there any difficulty levels (Beginner, Intermediate, Advanced) that are underrepresented in popular subject areas?"
   ]
  },
  {
   "cell_type": "code",
   "id": "91287d78433f800",
   "metadata": {
    "ExecuteTime": {
     "end_time": "2024-10-14T05:39:53.550568Z",
     "start_time": "2024-10-14T05:39:53.546322Z"
    }
   },
   "source": [
    "difficulty_levels = pd.Series(\n",
    "    df.groupby('course_difficulty')['course_students_enrolled'].sum().astype(int).nlargest(10))\n",
    "difficulty_levels"
   ],
   "outputs": [
    {
     "data": {
      "text/plain": [
       "course_difficulty\n",
       "beginner        39921800\n",
       "mixed           24989400\n",
       "intermediate    14506300\n",
       "advanced         1264400\n",
       "Name: course_students_enrolled, dtype: int64"
      ]
     },
     "execution_count": 9,
     "metadata": {},
     "output_type": "execute_result"
    }
   ],
   "execution_count": 9
  },
  {
   "cell_type": "markdown",
   "id": "44dcd47bbc8368a",
   "metadata": {},
   "source": [
    "### Which specializations have the highest enrollment-to-course ratio, potentially indicating demand for more courses in that area?"
   ]
  },
  {
   "cell_type": "markdown",
   "id": "e29aef6f47bc864a",
   "metadata": {},
   "source": [
    "### What are the emerging trends in course topics based on recent additions to the catalog?"
   ]
  },
  {
   "cell_type": "code",
   "id": "55a031a613a7dfb1",
   "metadata": {
    "ExecuteTime": {
     "end_time": "2024-10-14T05:39:53.668125Z",
     "start_time": "2024-10-14T05:39:53.660394Z"
    }
   },
   "source": [
    "recent_courses = df.sort_values('course_title', ascending=False).head(10)\n",
    "recent_courses"
   ],
   "outputs": [
    {
     "data": {
      "text/plain": [
       "                                      course_title  \\\n",
       "id                                                   \n",
       "163  финансовые инструменты для частного инвестора   \n",
       "875                        русский как иностранный   \n",
       "545   разработка интерфейсов: вёрстка и javascript   \n",
       "883           психолингвистика (psycholinguistics)   \n",
       "236                     программирование на python   \n",
       "889                            погружение в python   \n",
       "841           основы разработки на c++: белый пояс   \n",
       "703              основы программирования на python   \n",
       "405                      основы digital маркетинга   \n",
       "132              машинное обучение и анализ данных   \n",
       "\n",
       "                                   course_organization  \\\n",
       "id                                                       \n",
       "163  national research university higher school of ...   \n",
       "875                  saint petersburg state university   \n",
       "545                        e-learning development fund   \n",
       "883                  saint petersburg state university   \n",
       "236                                      mail.ru group   \n",
       "889         moscow institute of physics and technology   \n",
       "841                        e-learning development fund   \n",
       "703  national research university higher school of ...   \n",
       "405  national research university higher school of ...   \n",
       "132                        e-learning development fund   \n",
       "\n",
       "    course_certificate_type  course_rating course_difficulty  \\\n",
       "id                                                             \n",
       "163          specialization            4.7          beginner   \n",
       "875          specialization            4.6      intermediate   \n",
       "545          specialization            4.5      intermediate   \n",
       "883                  course            4.8             mixed   \n",
       "236          specialization            4.5      intermediate   \n",
       "889                  course            4.7      intermediate   \n",
       "841                  course            4.9      intermediate   \n",
       "703                  course            4.6          beginner   \n",
       "405          specialization            4.5      intermediate   \n",
       "132          specialization            4.7      intermediate   \n",
       "\n",
       "     course_students_enrolled  \n",
       "id                             \n",
       "163                   38000.0  \n",
       "875                    9800.0  \n",
       "545                   30000.0  \n",
       "883                   21000.0  \n",
       "236                   52000.0  \n",
       "889                   45000.0  \n",
       "841                   41000.0  \n",
       "703                   83000.0  \n",
       "405                   19000.0  \n",
       "132                   77000.0  "
      ],
      "text/html": [
       "<div>\n",
       "<style scoped>\n",
       "    .dataframe tbody tr th:only-of-type {\n",
       "        vertical-align: middle;\n",
       "    }\n",
       "\n",
       "    .dataframe tbody tr th {\n",
       "        vertical-align: top;\n",
       "    }\n",
       "\n",
       "    .dataframe thead th {\n",
       "        text-align: right;\n",
       "    }\n",
       "</style>\n",
       "<table border=\"1\" class=\"dataframe\">\n",
       "  <thead>\n",
       "    <tr style=\"text-align: right;\">\n",
       "      <th></th>\n",
       "      <th>course_title</th>\n",
       "      <th>course_organization</th>\n",
       "      <th>course_certificate_type</th>\n",
       "      <th>course_rating</th>\n",
       "      <th>course_difficulty</th>\n",
       "      <th>course_students_enrolled</th>\n",
       "    </tr>\n",
       "    <tr>\n",
       "      <th>id</th>\n",
       "      <th></th>\n",
       "      <th></th>\n",
       "      <th></th>\n",
       "      <th></th>\n",
       "      <th></th>\n",
       "      <th></th>\n",
       "    </tr>\n",
       "  </thead>\n",
       "  <tbody>\n",
       "    <tr>\n",
       "      <th>163</th>\n",
       "      <td>финансовые инструменты для частного инвестора</td>\n",
       "      <td>national research university higher school of ...</td>\n",
       "      <td>specialization</td>\n",
       "      <td>4.7</td>\n",
       "      <td>beginner</td>\n",
       "      <td>38000.0</td>\n",
       "    </tr>\n",
       "    <tr>\n",
       "      <th>875</th>\n",
       "      <td>русский как иностранный</td>\n",
       "      <td>saint petersburg state university</td>\n",
       "      <td>specialization</td>\n",
       "      <td>4.6</td>\n",
       "      <td>intermediate</td>\n",
       "      <td>9800.0</td>\n",
       "    </tr>\n",
       "    <tr>\n",
       "      <th>545</th>\n",
       "      <td>разработка интерфейсов: вёрстка и javascript</td>\n",
       "      <td>e-learning development fund</td>\n",
       "      <td>specialization</td>\n",
       "      <td>4.5</td>\n",
       "      <td>intermediate</td>\n",
       "      <td>30000.0</td>\n",
       "    </tr>\n",
       "    <tr>\n",
       "      <th>883</th>\n",
       "      <td>психолингвистика (psycholinguistics)</td>\n",
       "      <td>saint petersburg state university</td>\n",
       "      <td>course</td>\n",
       "      <td>4.8</td>\n",
       "      <td>mixed</td>\n",
       "      <td>21000.0</td>\n",
       "    </tr>\n",
       "    <tr>\n",
       "      <th>236</th>\n",
       "      <td>программирование на python</td>\n",
       "      <td>mail.ru group</td>\n",
       "      <td>specialization</td>\n",
       "      <td>4.5</td>\n",
       "      <td>intermediate</td>\n",
       "      <td>52000.0</td>\n",
       "    </tr>\n",
       "    <tr>\n",
       "      <th>889</th>\n",
       "      <td>погружение в python</td>\n",
       "      <td>moscow institute of physics and technology</td>\n",
       "      <td>course</td>\n",
       "      <td>4.7</td>\n",
       "      <td>intermediate</td>\n",
       "      <td>45000.0</td>\n",
       "    </tr>\n",
       "    <tr>\n",
       "      <th>841</th>\n",
       "      <td>основы разработки на c++: белый пояс</td>\n",
       "      <td>e-learning development fund</td>\n",
       "      <td>course</td>\n",
       "      <td>4.9</td>\n",
       "      <td>intermediate</td>\n",
       "      <td>41000.0</td>\n",
       "    </tr>\n",
       "    <tr>\n",
       "      <th>703</th>\n",
       "      <td>основы программирования на python</td>\n",
       "      <td>national research university higher school of ...</td>\n",
       "      <td>course</td>\n",
       "      <td>4.6</td>\n",
       "      <td>beginner</td>\n",
       "      <td>83000.0</td>\n",
       "    </tr>\n",
       "    <tr>\n",
       "      <th>405</th>\n",
       "      <td>основы digital маркетинга</td>\n",
       "      <td>national research university higher school of ...</td>\n",
       "      <td>specialization</td>\n",
       "      <td>4.5</td>\n",
       "      <td>intermediate</td>\n",
       "      <td>19000.0</td>\n",
       "    </tr>\n",
       "    <tr>\n",
       "      <th>132</th>\n",
       "      <td>машинное обучение и анализ данных</td>\n",
       "      <td>e-learning development fund</td>\n",
       "      <td>specialization</td>\n",
       "      <td>4.7</td>\n",
       "      <td>intermediate</td>\n",
       "      <td>77000.0</td>\n",
       "    </tr>\n",
       "  </tbody>\n",
       "</table>\n",
       "</div>"
      ]
     },
     "execution_count": 10,
     "metadata": {},
     "output_type": "execute_result"
    }
   ],
   "execution_count": 10
  },
  {
   "cell_type": "markdown",
   "id": "50ff316f841078e7",
   "metadata": {},
   "source": [
    "### Are there any high-rated courses with relatively low enrollment, suggesting potential for growth with better marketing?"
   ]
  },
  {
   "cell_type": "markdown",
   "id": "2dec098506eea180",
   "metadata": {},
   "source": [
    "### Which languages, other than English, show high demand but have limited course offerings?"
   ]
  },
  {
   "cell_type": "markdown",
   "id": "97a34bcb13cfa09f",
   "metadata": {},
   "source": [
    "### Are there any gaps in the difficulty progression (Beginner to Advanced) within popular subject areas?"
   ]
  },
  {
   "cell_type": "markdown",
   "id": "198b8ea0b2f6bfe4",
   "metadata": {},
   "source": [
    "### What subject areas have the highest ratings but fewer course options compared to other subjects?"
   ]
  },
  {
   "cell_type": "markdown",
   "id": "de0d8833da3f5793",
   "metadata": {},
   "source": [
    "### Are there any in-demand skills or technologies that are underrepresented in the current course offerings?"
   ]
  },
  {
   "cell_type": "markdown",
   "id": "9201b14d4c348cb5",
   "metadata": {},
   "source": [
    "### Which organizations have the highest-rated courses, and are there subject areas they're not covering?"
   ]
  },
  {
   "cell_type": "markdown",
   "id": "bc49b32128adcfcd",
   "metadata": {},
   "source": [
    "### What is the distribution of course types (individual courses, specializations, professional certificates) across different subjects, and are there imbalances?"
   ]
  },
  {
   "cell_type": "markdown",
   "id": "4b3bb166ee6bffca",
   "metadata": {},
   "source": [
    "### Are there any correlations between course characteristics (e.g., duration, difficulty) and enrollment that could inform new course design?"
   ]
  },
  {
   "cell_type": "markdown",
   "id": "6231f44efb838933",
   "metadata": {},
   "source": [
    "### What topics are covered in the courses with the highest enrollment-to-rating ratio?"
   ]
  },
  {
   "cell_type": "markdown",
   "id": "36d5c748a9ea547c",
   "metadata": {},
   "source": [
    "### Are there any subject areas with high enrollment but lower average ratings, indicating a need for improved course quality?"
   ]
  },
  {
   "cell_type": "markdown",
   "id": "6db657c44bbcb6bb",
   "metadata": {},
   "source": [
    "### What are the most common prerequisites for advanced courses, and are there gaps in preparing students for these?"
   ]
  },
  {
   "cell_type": "markdown",
   "id": "7ce8daaa44968ee7",
   "metadata": {},
   "source": [
    "### Are there any successful course formats or structures that could be applied to other subject areas?"
   ]
  },
  {
   "cell_type": "markdown",
   "id": "19aed572c973487e",
   "metadata": {},
   "source": [
    "### What is the distribution of course durations, and is there a sweet spot that could inform new course development?"
   ]
  },
  {
   "cell_type": "markdown",
   "id": "85e12aeac38502d",
   "metadata": {},
   "source": [
    "### Are there any interdisciplinary topics that are currently underrepresented in the course catalog?"
   ]
  },
  {
   "cell_type": "code",
   "id": "725b9635",
   "metadata": {
    "ExecuteTime": {
     "end_time": "2024-10-14T05:39:53.836442Z",
     "start_time": "2024-10-14T05:39:53.830392Z"
    }
   },
   "source": [
    "underrepresented_topics = df['course_title'].str.split().explode().value_counts().head(10)\n",
    "underrepresented_topics"
   ],
   "outputs": [
    {
     "data": {
      "text/plain": [
       "course_title\n",
       "and             222\n",
       "to              111\n",
       "for             107\n",
       "the              90\n",
       "introduction     75\n",
       "of               73\n",
       "data             69\n",
       "with             64\n",
       "in               64\n",
       "management       46\n",
       "Name: count, dtype: int64"
      ]
     },
     "execution_count": 11,
     "metadata": {},
     "output_type": "execute_result"
    }
   ],
   "execution_count": 11
  },
  {
   "cell_type": "markdown",
   "id": "52d7da94",
   "metadata": {},
   "source": [
    "# A glimpse into the present from the past (Google Analytics trends)"
   ]
  },
  {
   "cell_type": "code",
   "id": "7ac6851f",
   "metadata": {
    "ExecuteTime": {
     "end_time": "2024-10-14T05:46:49.071939Z",
     "start_time": "2024-10-14T05:46:48.216160Z"
    }
   },
   "source": [
    "pytrends = TrendReq(hl='en-US', tz=360)\n",
    "\n",
    "keywords = [\"Data Science\", \"AI\", \"Python\", \"Deep Learning\"]\n",
    "timeframe = '2019-01-01 2024-09-30'\n",
    "\n",
    "pytrends.build_payload(keywords, cat=0, timeframe=timeframe, geo='', gprop='')\n",
    "\n",
    "data = pytrends.interest_over_time()\n",
    "\n",
    "plt.figure(figsize=(12, 6))\n",
    "for column in data.columns:\n",
    "    if column != 'isPartial':\n",
    "        plt.plot(data.index, data[column], label=column)\n",
    "\n",
    "# Add annotation for Coursera 2020 dataset\n",
    "coursera_date = pd.to_datetime('2020-01-01')\n",
    "y_position = data.loc[coursera_date, 'Data Science']  # Using 'Data Science' interest as y-position\n",
    "plt.annotate('Coursera 2020 dataset',\n",
    "             xy=(coursera_date, y_position),\n",
    "             xytext=(coursera_date, y_position + 50),\n",
    "             arrowprops=dict(facecolor='black', shrink=-0.05),\n",
    "             horizontalalignment='center')\n",
    "\n",
    "plt.title(\"Google Trends: Interest Over Time\")\n",
    "plt.xlabel(\"Date\")\n",
    "plt.ylabel(\"Interest\")\n",
    "plt.legend()\n",
    "plt.grid(True)\n",
    "plt.tight_layout()  # Adjust layout to prevent clipping\n",
    "plt.show()"
   ],
   "outputs": [
    {
     "data": {
      "text/plain": [
       "<Figure size 1200x600 with 1 Axes>"
      ],
      "image/png": "[encoded data removed]"
     },
     "metadata": {},
     "output_type": "display_data"
    }
   ],
   "execution_count": 23
  }
 ],
 "metadata": {
  "kernelspec": {
   "display_name": "Python (DataScience)",
   "language": "python",
   "name": "datascience_env"
  },
  "language_info": {
   "codemirror_mode": {
    "name": "ipython",
    "version": 3
   },
   "file_extension": ".py",
   "mimetype": "text/x-python",
   "name": "python",
   "nbconvert_exporter": "python",
   "pygments_lexer": "ipython3",
   "version": "3.12.3"
  }
 },
 "nbformat": 4,
 "nbformat_minor": 5
}
