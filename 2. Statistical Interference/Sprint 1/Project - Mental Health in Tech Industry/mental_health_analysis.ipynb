{
 "cells": [
  {
   "metadata": {},
   "cell_type": "markdown",
   "source": [
    "# Notes\n",
    "- Use pip freeze to generate requirements.txt\n",
    "- Group data for each year (SQL select) into a dataframe"
   ],
   "id": "c47814ff66876cea"
  },
  {
   "metadata": {},
   "cell_type": "markdown",
   "source": [
    "# Requirements\n",
    "\n",
    "* Query the dataset using sqlite. Only load the final dataset into a dataframe.\n",
    "\n",
    "* Give an overview of the respondents of the survey. What is the sample size?\n",
    "* What are the sociodemographic features of the respondents? Do you see any evidence of sampling bias?\n",
    "* Perform exploratory data analysis. This should include creating statistical summaries and charts, checking for correlations and other relationships between variables, as well as other EDA elements.\n",
    "* In a plot, report the prevalence rate of at least three mental diseases. (https://en.wikipedia.org/wiki/Prevalence)\n",
    "* Make sure to plot the confidence interval and provide its interpretation.\n",
    "* Your notebook should be readable as a standalone document. In Markdown cells inform the reader of the questions you are trying to answer, and provide an interpretation of your results.\n",
    "* Provide suggestions about how your analysis can be improved.\n",
    "# Questions to answer (general)\n",
    "\n",
    "- What are the main types and subtypes of data?\n",
    "- What are the main metrics of location? What are their main characteristics?\n",
    "- What is variability? What are the main metrics of variability and their characteristics?\n",
    "- What is a confidence interval? Why do we need it? Why is it not sufficient to just report the point estimates?\n",
    "- What is correlation? How do we use it to analyze data?\n",
    "- What is a contingency table?\n",
    "\n",
    "# Plan of action\n",
    "\n",
    "- Import data into a single dataframe, that is coherent (it makes sense looking at it)\n",
    "- Review the data\n",
    "- Clean the data\n",
    "- Perform exploratory data analysis, main goal"
   ],
   "id": "4ae730b133ba8c76"
  },
  {
   "metadata": {},
   "cell_type": "markdown",
   "source": [
    "Let's filter the data to only include the questions that are present in all years, as we are interested in the trends over time.\n",
    "Also, let's clean the data by renaming the columns to lowercase and removing spaces, and renaming SurveyId to year as it is more intuitive."
   ],
   "id": "8445450d23196f13"
  },
  {
   "metadata": {
    "ExecuteTime": {
     "end_time": "2024-11-12T06:57:26.780010Z",
     "start_time": "2024-11-12T06:57:26.390168Z"
    }
   },
   "cell_type": "code",
   "source": [
    "import sqlite3\n",
    "import pandas as pd\n",
    "import plotly.express as px\n",
    "import numpy as np\n",
    "import helpers\n",
    "\n",
    "conn = sqlite3.connect('mental_health.sqlite')\n",
    "\n",
    "query = \"\"\"\n",
    "SELECT \n",
    "    s.SurveyID as year,  -- Renamed in the query itself\n",
    "    s.Description as survey_description,\n",
    "    a.UserID as user_id,\n",
    "    a.QuestionID as question_id,\n",
    "    q.QuestionText as question_text,\n",
    "    a.AnswerText as answer_text\n",
    "FROM Answer a\n",
    "JOIN Question q ON a.QuestionID = q.QuestionID\n",
    "JOIN Survey s ON a.SurveyID = s.SurveyID\n",
    "\"\"\"\n",
    "\n",
    "# Create initial dataframe\n",
    "df = pd.read_sql_query(query, conn)\n",
    "\n",
    "# Close connection\n",
    "conn.close()\n",
    "\n",
    "# Convert all column names to lowercase\n",
    "df.columns = df.columns.str.lower()\n",
    "\n",
    "df.head()"
   ],
   "id": "52c259f69d0fae26",
   "outputs": [
    {
     "data": {
      "text/plain": [
       "   year             survey_description  user_id  question_id  \\\n",
       "0  2014  mental health survey for 2014        1            1   \n",
       "1  2014  mental health survey for 2014        2            1   \n",
       "2  2014  mental health survey for 2014        3            1   \n",
       "3  2014  mental health survey for 2014        4            1   \n",
       "4  2014  mental health survey for 2014        5            1   \n",
       "\n",
       "       question_text answer_text  \n",
       "0  What is your age?          37  \n",
       "1  What is your age?          44  \n",
       "2  What is your age?          32  \n",
       "3  What is your age?          31  \n",
       "4  What is your age?          31  "
      ],
      "text/html": [
       "<div>\n",
       "<style scoped>\n",
       "    .dataframe tbody tr th:only-of-type {\n",
       "        vertical-align: middle;\n",
       "    }\n",
       "\n",
       "    .dataframe tbody tr th {\n",
       "        vertical-align: top;\n",
       "    }\n",
       "\n",
       "    .dataframe thead th {\n",
       "        text-align: right;\n",
       "    }\n",
       "</style>\n",
       "<table border=\"1\" class=\"dataframe\">\n",
       "  <thead>\n",
       "    <tr style=\"text-align: right;\">\n",
       "      <th></th>\n",
       "      <th>year</th>\n",
       "      <th>survey_description</th>\n",
       "      <th>user_id</th>\n",
       "      <th>question_id</th>\n",
       "      <th>question_text</th>\n",
       "      <th>answer_text</th>\n",
       "    </tr>\n",
       "  </thead>\n",
       "  <tbody>\n",
       "    <tr>\n",
       "      <th>0</th>\n",
       "      <td>2014</td>\n",
       "      <td>mental health survey for 2014</td>\n",
       "      <td>1</td>\n",
       "      <td>1</td>\n",
       "      <td>What is your age?</td>\n",
       "      <td>37</td>\n",
       "    </tr>\n",
       "    <tr>\n",
       "      <th>1</th>\n",
       "      <td>2014</td>\n",
       "      <td>mental health survey for 2014</td>\n",
       "      <td>2</td>\n",
       "      <td>1</td>\n",
       "      <td>What is your age?</td>\n",
       "      <td>44</td>\n",
       "    </tr>\n",
       "    <tr>\n",
       "      <th>2</th>\n",
       "      <td>2014</td>\n",
       "      <td>mental health survey for 2014</td>\n",
       "      <td>3</td>\n",
       "      <td>1</td>\n",
       "      <td>What is your age?</td>\n",
       "      <td>32</td>\n",
       "    </tr>\n",
       "    <tr>\n",
       "      <th>3</th>\n",
       "      <td>2014</td>\n",
       "      <td>mental health survey for 2014</td>\n",
       "      <td>4</td>\n",
       "      <td>1</td>\n",
       "      <td>What is your age?</td>\n",
       "      <td>31</td>\n",
       "    </tr>\n",
       "    <tr>\n",
       "      <th>4</th>\n",
       "      <td>2014</td>\n",
       "      <td>mental health survey for 2014</td>\n",
       "      <td>5</td>\n",
       "      <td>1</td>\n",
       "      <td>What is your age?</td>\n",
       "      <td>31</td>\n",
       "    </tr>\n",
       "  </tbody>\n",
       "</table>\n",
       "</div>"
      ]
     },
     "execution_count": 27,
     "metadata": {},
     "output_type": "execute_result"
    }
   ],
   "execution_count": 27
  },
  {
   "metadata": {
    "ExecuteTime": {
     "end_time": "2024-11-12T06:57:26.803544Z",
     "start_time": "2024-11-12T06:57:26.797555Z"
    }
   },
   "cell_type": "code",
   "source": [
    "# Number of unique respondents per year\n",
    "yearly_respondents = df.groupby('year')['user_id'].nunique()\n",
    "\n",
    "# Show results directly (no print needed in PyCharm)\n",
    "yearly_respondents"
   ],
   "id": "ae2b60f3a85138dc",
   "outputs": [
    {
     "data": {
      "text/plain": [
       "year\n",
       "2014    1260\n",
       "2016    1433\n",
       "2017     756\n",
       "2018     417\n",
       "2019     352\n",
       "Name: user_id, dtype: int64"
      ]
     },
     "execution_count": 28,
     "metadata": {},
     "output_type": "execute_result"
    }
   ],
   "execution_count": 28
  },
  {
   "metadata": {
    "ExecuteTime": {
     "end_time": "2024-11-12T06:57:26.869322Z",
     "start_time": "2024-11-12T06:57:26.853093Z"
    }
   },
   "cell_type": "code",
   "source": [
    "# Clean age data by removing impossible values\n",
    "age_df = df[df['question_text'] == 'What is your age?']\n",
    "clean_age = pd.to_numeric(age_df['answer_text'], errors='coerce')\n",
    "clean_age = clean_age[\n",
    "    (clean_age >= 16) & (clean_age <= 80)]  # Reasonable age range, ignoring outlier ages like 99 and -1\n",
    "clean_age_stats = clean_age.describe()\n",
    "\n",
    "clean_age_stats"
   ],
   "id": "f1bf217635af9411",
   "outputs": [
    {
     "data": {
      "text/plain": [
       "count    4203.000000\n",
       "mean       33.855817\n",
       "std         8.068257\n",
       "min        17.000000\n",
       "25%        28.000000\n",
       "50%        33.000000\n",
       "75%        38.000000\n",
       "max        74.000000\n",
       "Name: answer_text, dtype: float64"
      ]
     },
     "execution_count": 29,
     "metadata": {},
     "output_type": "execute_result"
    }
   ],
   "execution_count": 29
  },
  {
   "metadata": {
    "ExecuteTime": {
     "end_time": "2024-11-12T06:57:26.981866Z",
     "start_time": "2024-11-12T06:57:26.968627Z"
    }
   },
   "cell_type": "code",
   "source": [
    "\n",
    "# Let's also look at age distribution by year\n",
    "age_by_year = age_df.copy()\n",
    "age_by_year['clean_age'] = pd.to_numeric(age_by_year['answer_text'], errors='coerce')\n",
    "age_by_year = age_by_year[(age_by_year['clean_age'] >= 18) & (age_by_year['clean_age'] <= 100)]\n",
    "yearly_age_stats = age_by_year.groupby('year')['clean_age'].describe()\n",
    "\n",
    "yearly_age_stats"
   ],
   "id": "ec34025be6e785b9",
   "outputs": [
    {
     "data": {
      "text/plain": [
       "       count       mean       std   min   25%   50%   75%   max\n",
       "year                                                           \n",
       "2014  1252.0  32.083866  7.289722  18.0  27.0  31.0  36.0  72.0\n",
       "2016  1429.0  34.131561  8.263825  19.0  28.0  33.0  39.0  99.0\n",
       "2017   754.0  34.988064  8.338051  18.0  29.0  34.0  40.0  67.0\n",
       "2018   417.0  34.916067  8.047047  19.0  29.0  34.0  39.0  67.0\n",
       "2019   351.0  35.595442  8.891819  19.0  29.0  34.0  41.0  64.0"
      ],
      "text/html": [
       "<div>\n",
       "<style scoped>\n",
       "    .dataframe tbody tr th:only-of-type {\n",
       "        vertical-align: middle;\n",
       "    }\n",
       "\n",
       "    .dataframe tbody tr th {\n",
       "        vertical-align: top;\n",
       "    }\n",
       "\n",
       "    .dataframe thead th {\n",
       "        text-align: right;\n",
       "    }\n",
       "</style>\n",
       "<table border=\"1\" class=\"dataframe\">\n",
       "  <thead>\n",
       "    <tr style=\"text-align: right;\">\n",
       "      <th></th>\n",
       "      <th>count</th>\n",
       "      <th>mean</th>\n",
       "      <th>std</th>\n",
       "      <th>min</th>\n",
       "      <th>25%</th>\n",
       "      <th>50%</th>\n",
       "      <th>75%</th>\n",
       "      <th>max</th>\n",
       "    </tr>\n",
       "    <tr>\n",
       "      <th>year</th>\n",
       "      <th></th>\n",
       "      <th></th>\n",
       "      <th></th>\n",
       "      <th></th>\n",
       "      <th></th>\n",
       "      <th></th>\n",
       "      <th></th>\n",
       "      <th></th>\n",
       "    </tr>\n",
       "  </thead>\n",
       "  <tbody>\n",
       "    <tr>\n",
       "      <th>2014</th>\n",
       "      <td>1252.0</td>\n",
       "      <td>32.083866</td>\n",
       "      <td>7.289722</td>\n",
       "      <td>18.0</td>\n",
       "      <td>27.0</td>\n",
       "      <td>31.0</td>\n",
       "      <td>36.0</td>\n",
       "      <td>72.0</td>\n",
       "    </tr>\n",
       "    <tr>\n",
       "      <th>2016</th>\n",
       "      <td>1429.0</td>\n",
       "      <td>34.131561</td>\n",
       "      <td>8.263825</td>\n",
       "      <td>19.0</td>\n",
       "      <td>28.0</td>\n",
       "      <td>33.0</td>\n",
       "      <td>39.0</td>\n",
       "      <td>99.0</td>\n",
       "    </tr>\n",
       "    <tr>\n",
       "      <th>2017</th>\n",
       "      <td>754.0</td>\n",
       "      <td>34.988064</td>\n",
       "      <td>8.338051</td>\n",
       "      <td>18.0</td>\n",
       "      <td>29.0</td>\n",
       "      <td>34.0</td>\n",
       "      <td>40.0</td>\n",
       "      <td>67.0</td>\n",
       "    </tr>\n",
       "    <tr>\n",
       "      <th>2018</th>\n",
       "      <td>417.0</td>\n",
       "      <td>34.916067</td>\n",
       "      <td>8.047047</td>\n",
       "      <td>19.0</td>\n",
       "      <td>29.0</td>\n",
       "      <td>34.0</td>\n",
       "      <td>39.0</td>\n",
       "      <td>67.0</td>\n",
       "    </tr>\n",
       "    <tr>\n",
       "      <th>2019</th>\n",
       "      <td>351.0</td>\n",
       "      <td>35.595442</td>\n",
       "      <td>8.891819</td>\n",
       "      <td>19.0</td>\n",
       "      <td>29.0</td>\n",
       "      <td>34.0</td>\n",
       "      <td>41.0</td>\n",
       "      <td>64.0</td>\n",
       "    </tr>\n",
       "  </tbody>\n",
       "</table>\n",
       "</div>"
      ]
     },
     "execution_count": 30,
     "metadata": {},
     "output_type": "execute_result"
    }
   ],
   "execution_count": 30
  },
  {
   "metadata": {},
   "cell_type": "markdown",
   "source": [
    "Looking at the cleaned age statistics, let me help interpret:\n",
    "\n",
    "### Sample Size and Distribution:\n",
    "- Count: 4203 valid responses\n",
    "- Mean: 33.86 years\n",
    "- Median (50%): 33 years\n",
    "- The mean and median being close suggests a relatively symmetric distribution\n",
    "\n",
    "\n",
    "### Age Spread:\n",
    "\n",
    "- Standard Deviation: 8.07 years\n",
    "- IQR: 38 years (75th) - 28 years (25th) = 10 years\n",
    "- Range: 17 years (min) to 74 years (max)\n",
    "\n",
    "### Evidence of Sampling Bias:\n",
    "\n",
    "- Age concentration: 50% of respondents are between 28-38 years\n",
    "- Underrepresentation of:\n",
    "    - Senior tech workers (40+ years)\n",
    "    - Early career professionals (< 25 years)\n",
    "    - The narrow standard deviation (8.07 years) suggests limited age diversity\n",
    "\n",
    "Let's analyze other demographics to get a fuller picture."
   ],
   "id": "54495f267903409"
  },
  {
   "metadata": {
    "ExecuteTime": {
     "end_time": "2024-11-12T06:57:27.054950Z",
     "start_time": "2024-11-12T06:57:27.037670Z"
    }
   },
   "cell_type": "code",
   "source": [
    "# Apply the categorization\n",
    "gender_df = df[df['question_text'] == 'What is your gender?'].copy()\n",
    "gender_df['category'] = gender_df['answer_text'].apply(helpers.categorize_gender)\n",
    "\n",
    "# Create the distribution\n",
    "gender_distribution = gender_df.groupby(['year', 'category']).size().unstack(fill_value=0)\n",
    "\n",
    "# Calculate percentages\n",
    "gender_distribution_pct = gender_distribution.div(gender_distribution.sum(axis=1), axis=0) * 100\n",
    "\n",
    "# Show both counts and percentages\n",
    "gender_distribution"
   ],
   "id": "3853d998ce55c81",
   "outputs": [
    {
     "data": {
      "text/plain": [
       "category  Female  Male  Other\n",
       "year                         \n",
       "2014         247   991     22\n",
       "2016         336  1057     40\n",
       "2017         218   502     36\n",
       "2018         125   266     26\n",
       "2019          98   228     26"
      ],
      "text/html": [
       "<div>\n",
       "<style scoped>\n",
       "    .dataframe tbody tr th:only-of-type {\n",
       "        vertical-align: middle;\n",
       "    }\n",
       "\n",
       "    .dataframe tbody tr th {\n",
       "        vertical-align: top;\n",
       "    }\n",
       "\n",
       "    .dataframe thead th {\n",
       "        text-align: right;\n",
       "    }\n",
       "</style>\n",
       "<table border=\"1\" class=\"dataframe\">\n",
       "  <thead>\n",
       "    <tr style=\"text-align: right;\">\n",
       "      <th>category</th>\n",
       "      <th>Female</th>\n",
       "      <th>Male</th>\n",
       "      <th>Other</th>\n",
       "    </tr>\n",
       "    <tr>\n",
       "      <th>year</th>\n",
       "      <th></th>\n",
       "      <th></th>\n",
       "      <th></th>\n",
       "    </tr>\n",
       "  </thead>\n",
       "  <tbody>\n",
       "    <tr>\n",
       "      <th>2014</th>\n",
       "      <td>247</td>\n",
       "      <td>991</td>\n",
       "      <td>22</td>\n",
       "    </tr>\n",
       "    <tr>\n",
       "      <th>2016</th>\n",
       "      <td>336</td>\n",
       "      <td>1057</td>\n",
       "      <td>40</td>\n",
       "    </tr>\n",
       "    <tr>\n",
       "      <th>2017</th>\n",
       "      <td>218</td>\n",
       "      <td>502</td>\n",
       "      <td>36</td>\n",
       "    </tr>\n",
       "    <tr>\n",
       "      <th>2018</th>\n",
       "      <td>125</td>\n",
       "      <td>266</td>\n",
       "      <td>26</td>\n",
       "    </tr>\n",
       "    <tr>\n",
       "      <th>2019</th>\n",
       "      <td>98</td>\n",
       "      <td>228</td>\n",
       "      <td>26</td>\n",
       "    </tr>\n",
       "  </tbody>\n",
       "</table>\n",
       "</div>"
      ]
     },
     "execution_count": 31,
     "metadata": {},
     "output_type": "execute_result"
    }
   ],
   "execution_count": 31
  },
  {
   "metadata": {
    "ExecuteTime": {
     "end_time": "2024-11-12T06:57:27.097760Z",
     "start_time": "2024-11-12T06:57:27.093929Z"
    }
   },
   "cell_type": "code",
   "source": "gender_distribution_pct",
   "id": "8ebb63afe52f569f",
   "outputs": [
    {
     "data": {
      "text/plain": [
       "category     Female       Male     Other\n",
       "year                                    \n",
       "2014      19.603175  78.650794  1.746032\n",
       "2016      23.447313  73.761340  2.791347\n",
       "2017      28.835979  66.402116  4.761905\n",
       "2018      29.976019  63.788969  6.235012\n",
       "2019      27.840909  64.772727  7.386364"
      ],
      "text/html": [
       "<div>\n",
       "<style scoped>\n",
       "    .dataframe tbody tr th:only-of-type {\n",
       "        vertical-align: middle;\n",
       "    }\n",
       "\n",
       "    .dataframe tbody tr th {\n",
       "        vertical-align: top;\n",
       "    }\n",
       "\n",
       "    .dataframe thead th {\n",
       "        text-align: right;\n",
       "    }\n",
       "</style>\n",
       "<table border=\"1\" class=\"dataframe\">\n",
       "  <thead>\n",
       "    <tr style=\"text-align: right;\">\n",
       "      <th>category</th>\n",
       "      <th>Female</th>\n",
       "      <th>Male</th>\n",
       "      <th>Other</th>\n",
       "    </tr>\n",
       "    <tr>\n",
       "      <th>year</th>\n",
       "      <th></th>\n",
       "      <th></th>\n",
       "      <th></th>\n",
       "    </tr>\n",
       "  </thead>\n",
       "  <tbody>\n",
       "    <tr>\n",
       "      <th>2014</th>\n",
       "      <td>19.603175</td>\n",
       "      <td>78.650794</td>\n",
       "      <td>1.746032</td>\n",
       "    </tr>\n",
       "    <tr>\n",
       "      <th>2016</th>\n",
       "      <td>23.447313</td>\n",
       "      <td>73.761340</td>\n",
       "      <td>2.791347</td>\n",
       "    </tr>\n",
       "    <tr>\n",
       "      <th>2017</th>\n",
       "      <td>28.835979</td>\n",
       "      <td>66.402116</td>\n",
       "      <td>4.761905</td>\n",
       "    </tr>\n",
       "    <tr>\n",
       "      <th>2018</th>\n",
       "      <td>29.976019</td>\n",
       "      <td>63.788969</td>\n",
       "      <td>6.235012</td>\n",
       "    </tr>\n",
       "    <tr>\n",
       "      <th>2019</th>\n",
       "      <td>27.840909</td>\n",
       "      <td>64.772727</td>\n",
       "      <td>7.386364</td>\n",
       "    </tr>\n",
       "  </tbody>\n",
       "</table>\n",
       "</div>"
      ]
     },
     "execution_count": 32,
     "metadata": {},
     "output_type": "execute_result"
    }
   ],
   "execution_count": 32
  },
  {
   "metadata": {
    "ExecuteTime": {
     "end_time": "2024-11-12T06:57:27.171097Z",
     "start_time": "2024-11-12T06:57:27.154854Z"
    }
   },
   "cell_type": "code",
   "source": [
    "\n",
    "# Location/Country distribution\n",
    "location_dist = helpers.get_responses_by_question(df, 'What country do you live in?')\n",
    "location_dist.sum().nlargest(10)\n",
    "# Top 5 countries"
   ],
   "id": "2de6dc0ae2197716",
   "outputs": [
    {
     "data": {
      "text/plain": [
       "answer_text\n",
       "United States of America    1853\n",
       "United States                751\n",
       "United Kingdom               482\n",
       "Canada                       199\n",
       "Germany                      136\n",
       "Netherlands                   98\n",
       "Australia                     73\n",
       "France                        51\n",
       "Ireland                       51\n",
       "India                         50\n",
       "dtype: int64"
      ]
     },
     "execution_count": 33,
     "metadata": {},
     "output_type": "execute_result"
    }
   ],
   "execution_count": 33
  },
  {
   "metadata": {
    "ExecuteTime": {
     "end_time": "2024-11-12T06:57:27.256036Z",
     "start_time": "2024-11-12T06:57:27.239319Z"
    }
   },
   "cell_type": "code",
   "source": [
    "# Company size distribution\n",
    "company_size_dist = helpers.get_responses_by_question(df, 'How many employees does your company or organization have?')\n",
    "company_size_dist"
   ],
   "id": "f4428d42c7225712",
   "outputs": [
    {
     "data": {
      "text/plain": [
       "answer_text   -1  1-5  100-500  26-100  500-1000  6-25  More than 1000\n",
       "year                                                                  \n",
       "2014           0  162      176     289        61   290             282\n",
       "2016         287   60      248     292        80   210             256\n",
       "2017         113   20      203     128        48    86             158\n",
       "2018          56    5       81      70        31    69             105\n",
       "2019          48    7       80      45        27    34             111"
      ],
      "text/html": [
       "<div>\n",
       "<style scoped>\n",
       "    .dataframe tbody tr th:only-of-type {\n",
       "        vertical-align: middle;\n",
       "    }\n",
       "\n",
       "    .dataframe tbody tr th {\n",
       "        vertical-align: top;\n",
       "    }\n",
       "\n",
       "    .dataframe thead th {\n",
       "        text-align: right;\n",
       "    }\n",
       "</style>\n",
       "<table border=\"1\" class=\"dataframe\">\n",
       "  <thead>\n",
       "    <tr style=\"text-align: right;\">\n",
       "      <th>answer_text</th>\n",
       "      <th>-1</th>\n",
       "      <th>1-5</th>\n",
       "      <th>100-500</th>\n",
       "      <th>26-100</th>\n",
       "      <th>500-1000</th>\n",
       "      <th>6-25</th>\n",
       "      <th>More than 1000</th>\n",
       "    </tr>\n",
       "    <tr>\n",
       "      <th>year</th>\n",
       "      <th></th>\n",
       "      <th></th>\n",
       "      <th></th>\n",
       "      <th></th>\n",
       "      <th></th>\n",
       "      <th></th>\n",
       "      <th></th>\n",
       "    </tr>\n",
       "  </thead>\n",
       "  <tbody>\n",
       "    <tr>\n",
       "      <th>2014</th>\n",
       "      <td>0</td>\n",
       "      <td>162</td>\n",
       "      <td>176</td>\n",
       "      <td>289</td>\n",
       "      <td>61</td>\n",
       "      <td>290</td>\n",
       "      <td>282</td>\n",
       "    </tr>\n",
       "    <tr>\n",
       "      <th>2016</th>\n",
       "      <td>287</td>\n",
       "      <td>60</td>\n",
       "      <td>248</td>\n",
       "      <td>292</td>\n",
       "      <td>80</td>\n",
       "      <td>210</td>\n",
       "      <td>256</td>\n",
       "    </tr>\n",
       "    <tr>\n",
       "      <th>2017</th>\n",
       "      <td>113</td>\n",
       "      <td>20</td>\n",
       "      <td>203</td>\n",
       "      <td>128</td>\n",
       "      <td>48</td>\n",
       "      <td>86</td>\n",
       "      <td>158</td>\n",
       "    </tr>\n",
       "    <tr>\n",
       "      <th>2018</th>\n",
       "      <td>56</td>\n",
       "      <td>5</td>\n",
       "      <td>81</td>\n",
       "      <td>70</td>\n",
       "      <td>31</td>\n",
       "      <td>69</td>\n",
       "      <td>105</td>\n",
       "    </tr>\n",
       "    <tr>\n",
       "      <th>2019</th>\n",
       "      <td>48</td>\n",
       "      <td>7</td>\n",
       "      <td>80</td>\n",
       "      <td>45</td>\n",
       "      <td>27</td>\n",
       "      <td>34</td>\n",
       "      <td>111</td>\n",
       "    </tr>\n",
       "  </tbody>\n",
       "</table>\n",
       "</div>"
      ]
     },
     "execution_count": 34,
     "metadata": {},
     "output_type": "execute_result"
    }
   ],
   "execution_count": 34
  },
  {
   "metadata": {},
   "cell_type": "markdown",
   "source": "",
   "id": "ea4cc520e515295d"
  },
  {
   "metadata": {},
   "cell_type": "markdown",
   "source": [
    "# Overview of the respondents of the survey. What is the sample size? What are the sociodemographic features of the respondents? Do you see any evidence of sampling bias?\n",
    "\n",
    "2014: ~1,260 respondents\n",
    "2016: ~1,433 respondents\n",
    "2017: ~756 respondents\n",
    "2018: ~417 respondents\n",
    "2019: ~352 respondents\n",
    "\n",
    "## Evidence of Several Types of Sampling Bias:\n",
    "\n",
    "### Age Bias:\n",
    "\n",
    "\n",
    "Mean age ~33.9 years\n",
    "Strong concentration in 28-38 year range\n",
    "Underrepresentation of:\n",
    "\n",
    "Senior professionals (40+)\n",
    "Early career professionals (<25)\n",
    "\n",
    "\n",
    "\n",
    "\n",
    "### Participation Bias:\n",
    "\n",
    "\n",
    "Sharp decline in participation from 2016 to 2019\n",
    "Could affect trend analysis reliability\n",
    "More recent years might not be as representative\n",
    "\n",
    "\n",
    "Looking at the country distribution, we can identify clear geographic sampling biases:\n",
    "\n",
    "Strong US Dominance:\n",
    "\n",
    "\n",
    "United States total: 2,604 respondents (1,853 + 751 from different labelings)\n",
    "This represents approximately 65% of respondents\n",
    "\n",
    "\n",
    "### English-Speaking Countries Bias:\n",
    "\n",
    "\n",
    "Top English-speaking countries:\n",
    "\n",
    "USA: 2,604 respondents\n",
    "UK: 482 respondents\n",
    "Canada: 199 respondents\n",
    "Australia: 73 respondents\n",
    "Ireland: 51 respondents\n",
    "\n",
    "\n",
    "\n",
    "\n",
    "Western Europe Representation:\n",
    "\n",
    "\n",
    "Moderate representation from:\n",
    "\n",
    "Germany: 136 respondents\n",
    "Netherlands: 98 respondents\n",
    "France: 51 respondents\n",
    "\n",
    "\n",
    "\n",
    "\n",
    "### Underrepresentation:\n",
    "\n",
    "\n",
    "Only one Asian country in top 10 (India: 50 respondents)\n",
    "No representation from:\n",
    "\n",
    "South America\n",
    "Africa\n",
    "Most of Asia\n",
    "Eastern Europe\n",
    "\n",
    "\n",
    "\n",
    "### Sampling Biases to Consider:\n",
    "\n",
    "Language Barrier: Survey likely conducted in English\n",
    "Distribution Channels: Survey might have been distributed through US-centric networks\n",
    "Tech Industry Concentration: Reflects tech industry hubs but might miss emerging markets\n",
    "\n",
    "This geographic distribution limits our ability to make global generalizations about:\n",
    "\n",
    "Mental health in tech globally\n",
    "Cultural differences in mental health approaches\n",
    "Regional workplace practices\n",
    "\n",
    "\n",
    "Looking at the company size distribution across years, let's analyze the patterns:\n",
    "\n",
    "### Overall Distribution Pattern:\n",
    "\n",
    "\n",
    "Very diverse representation from small to large companies\n",
    "Strong representation from both ends:\n",
    "\n",
    "Small companies (1-5, 6-25 employees)\n",
    "Large enterprises (More than 1000 employees)\n",
    "\n",
    "\n",
    "Good representation of mid-sized companies (26-100, 100-500)\n",
    "\n",
    "### Company Size Bias:\n",
    "\n",
    "Good representation of different company sizes\n",
    "But might not match actual tech industry distribution\n",
    "\n",
    "\n",
    "### Missing Data:\n",
    "\n",
    "Significant \"-1\" values in 2016-2019\n",
    "Could affect analysis reliability\n",
    "\n",
    "Changes Over Time:\n",
    "\n",
    "\n",
    "Declining participation across all company sizes\n",
    "Relatively consistent proportions maintained"
   ],
   "id": "852db14636e14f69"
  },
  {
   "metadata": {},
   "cell_type": "markdown",
   "source": [
    "\n",
    "# Mental Health Conditions Prevalence Analysis\n",
    "\n",
    "Let's analyze the prevalence of mental health conditions in the tech industry using three key questions:\n",
    "1. Past history: \"Have you had a mental health disorder in the past?\"\n",
    "2. Current status: \"Do you currently have a mental health disorder?\"\n",
    "3. Diagnosis: \"Have you ever been diagnosed with a mental health disorder?\"\n",
    "\n",
    "We'll calculate prevalence rates with 95% confidence intervals using the Wilson score interval method.\n"
   ],
   "id": "41cf2609ebd0ae1f"
  },
  {
   "metadata": {
    "ExecuteTime": {
     "end_time": "2024-11-12T06:57:27.418560Z",
     "start_time": "2024-11-12T06:57:27.315074Z"
    }
   },
   "cell_type": "code",
   "source": [
    "questions = [\n",
    "    \"Have you had a mental health disorder in the past?\",\n",
    "    \"Do you currently have a mental health disorder?\",\n",
    "    \"Have you ever been diagnosed with a mental health disorder?\"\n",
    "]\n",
    "\n",
    "# Create data for plotting\n",
    "plot_data = []\n",
    "for question in questions:\n",
    "    prev, lower, upper = helpers.calculate_prevalence_ci(df, question)\n",
    "    plot_data.append({\n",
    "        'Condition': question.replace(\"Have you \", \"\").replace(\"?\", \"\"),\n",
    "        'Prevalence': prev,\n",
    "        'CI_lower': lower,\n",
    "        'CI_upper': upper\n",
    "    })\n",
    "\n",
    "# Create DataFrame for plotting\n",
    "plot_df = pd.DataFrame(plot_data)\n",
    "\n",
    "# Create the plot using Plotly Express\n",
    "fig = px.bar(plot_df,\n",
    "             x='Condition',\n",
    "             y='Prevalence',\n",
    "             error_y=plot_df.apply(lambda row: {'array': [row['CI_upper'] - row['Prevalence']]}, axis=1),\n",
    "             error_y_minus=plot_df.apply(lambda row: {'array': [row['Prevalence'] - row['CI_lower']]}, axis=1),\n",
    "             title='Mental Health Conditions Prevalence in Tech Industry (2014-2019)')\n",
    "\n",
    "# Update layout\n",
    "fig.update_layout(\n",
    "    xaxis_title=\"\",\n",
    "    yaxis_title=\"Prevalence (%)\",\n",
    "    yaxis_range=[0, 100],\n",
    "    showlegend=False,\n",
    "    title_x=0.5,\n",
    "    xaxis_tickangle=-45,\n",
    "    template='plotly_white'\n",
    ")\n",
    "\n",
    "# Add hover template\n",
    "fig.update_traces(\n",
    "    hovertemplate=\"<br>\".join([\n",
    "        \"<b>%{x}</b>\",\n",
    "        \"Prevalence: %{y:.1f}%\",\n",
    "        \"95% CI: (%{customdata[0]:.1f}% - %{customdata[1]:.1f}%)\",\n",
    "        \"<extra></extra>\"\n",
    "    ]),\n",
    "    customdata=plot_df[['CI_lower', 'CI_upper']]\n",
    ")\n",
    "\n",
    "fig.show()\n",
    "\n",
    "# Create a markdown cell for interpretation\n",
    "\"\"\"\n",
    "### Interpretation of Mental Health Prevalence Results:\n",
    "\n",
    "1. Past Mental Health Disorders:\n",
    "   - Prevalence: {:.1f}% (95% CI: {:.1f}% - {:.1f}%)\n",
    "   - Highest prevalence among the three measures\n",
    "\n",
    "2. Current Mental Health Disorders:\n",
    "   - Prevalence: {:.1f}% (95% CI: {:.1f}% - {:.1f}%)\n",
    "   - Lower than past disorders, suggesting possible recovery or management\n",
    "\n",
    "3. Diagnosed Mental Health Disorders:\n",
    "   - Prevalence: {:.1f}% (95% CI: {:.1f}% - {:.1f}%)\n",
    "   - High diagnosis rate indicates good healthcare access\n",
    "\n",
    "Key Observations:\n",
    "1. High Overall Prevalence: All measures show rates >35%\n",
    "2. Narrow Confidence Intervals: Indicates precise estimates\n",
    "3. Treatment Gap: Difference between past and current prevalence suggests successful interventions\n",
    "4. Possible Underreporting: Some may not seek diagnosis or disclose conditions\n",
    "\"\"\".format(\n",
    "    plot_df.iloc[0]['Prevalence'], plot_df.iloc[0]['CI_lower'], plot_df.iloc[0]['CI_upper'],\n",
    "    plot_df.iloc[1]['Prevalence'], plot_df.iloc[1]['CI_lower'], plot_df.iloc[1]['CI_upper'],\n",
    "    plot_df.iloc[2]['Prevalence'], plot_df.iloc[2]['CI_lower'], plot_df.iloc[2]['CI_upper']\n",
    ")"
   ],
   "id": "77dbd260dc788c7",
   "outputs": [
    {
     "data": {
      "application/vnd.plotly.v1+json": {
       "data": [
        {
         "alignmentgroup": "True",
         "error_y": {
          "array": [
           {
            "array": [
             1.801853488656846
            ]
           },
           {
            "array": [
             1.7870900368390537
            ]
           },
           {
            "array": [
             1.8002622665872394
            ]
           }
          ],
          "arrayminus": [
           {
            "array": [
             1.796416307168883
            ]
           },
           {
            "array": [
             1.7658674897408915
            ]
           },
           {
            "array": [
             1.7900894754162309
            ]
           }
          ]
         },
         "hovertemplate": "<b>%{x}</b><br>Prevalence: %{y:.1f}%<br>95% CI: (%{customdata[0]:.1f}% - %{customdata[1]:.1f}%)<br><extra></extra>",
         "legendgroup": "",
         "marker": {
          "color": "#636efa",
          "pattern": {
           "shape": ""
          }
         },
         "name": "",
         "offsetgroup": "",
         "orientation": "v",
         "showlegend": false,
         "textposition": "auto",
         "x": [
          "had a mental health disorder in the past",
          "Do you currently have a mental health disorder",
          "ever been diagnosed with a mental health disorder"
         ],
         "xaxis": "x",
         "y": [
          47.903989181879645,
          41.81879648411089,
          46.07843137254902
         ],
         "yaxis": "y",
         "type": "bar",
         "customdata": [
          [
           46.10757287471076,
           49.70584267053649
          ],
          [
           40.05292899437,
           43.605886520949944
          ],
          [
           44.28834189713279,
           47.87869363913626
          ]
         ]
        }
       ],
       "layout": {
        "template": {
         "data": {
          "barpolar": [
           {
            "marker": {
             "line": {
              "color": "white",
              "width": 0.5
             },
             "pattern": {
              "fillmode": "overlay",
              "size": 10,
              "solidity": 0.2
             }
            },
            "type": "barpolar"
           }
          ],
          "bar": [
           {
            "error_x": {
             "color": "#2a3f5f"
            },
            "error_y": {
             "color": "#2a3f5f"
            },
            "marker": {
             "line": {
              "color": "white",
              "width": 0.5
             },
             "pattern": {
              "fillmode": "overlay",
              "size": 10,
              "solidity": 0.2
             }
            },
            "type": "bar"
           }
          ],
          "carpet": [
           {
            "aaxis": {
             "endlinecolor": "#2a3f5f",
             "gridcolor": "#C8D4E3",
             "linecolor": "#C8D4E3",
             "minorgridcolor": "#C8D4E3",
             "startlinecolor": "#2a3f5f"
            },
            "baxis": {
             "endlinecolor": "#2a3f5f",
             "gridcolor": "#C8D4E3",
             "linecolor": "#C8D4E3",
             "minorgridcolor": "#C8D4E3",
             "startlinecolor": "#2a3f5f"
            },
            "type": "carpet"
           }
          ],
          "choropleth": [
           {
            "colorbar": {
             "outlinewidth": 0,
             "ticks": ""
            },
            "type": "choropleth"
           }
          ],
          "contourcarpet": [
           {
            "colorbar": {
             "outlinewidth": 0,
             "ticks": ""
            },
            "type": "contourcarpet"
           }
          ],
          "contour": [
           {
            "colorbar": {
             "outlinewidth": 0,
             "ticks": ""
            },
            "colorscale": [
             [
              0.0,
              "#0d0887"
             ],
             [
              0.1111111111111111,
              "#46039f"
             ],
             [
              0.2222222222222222,
              "#7201a8"
             ],
             [
              0.3333333333333333,
              "#9c179e"
             ],
             [
              0.4444444444444444,
              "#bd3786"
             ],
             [
              0.5555555555555556,
              "#d8576b"
             ],
             [
              0.6666666666666666,
              "#ed7953"
             ],
             [
              0.7777777777777778,
              "#fb9f3a"
             ],
             [
              0.8888888888888888,
              "#fdca26"
             ],
             [
              1.0,
              "#f0f921"
             ]
            ],
            "type": "contour"
           }
          ],
          "heatmapgl": [
           {
            "colorbar": {
             "outlinewidth": 0,
             "ticks": ""
            },
            "colorscale": [
             [
              0.0,
              "#0d0887"
             ],
             [
              0.1111111111111111,
              "#46039f"
             ],
             [
              0.2222222222222222,
              "#7201a8"
             ],
             [
              0.3333333333333333,
              "#9c179e"
             ],
             [
              0.4444444444444444,
              "#bd3786"
             ],
             [
              0.5555555555555556,
              "#d8576b"
             ],
             [
              0.6666666666666666,
              "#ed7953"
             ],
             [
              0.7777777777777778,
              "#fb9f3a"
             ],
             [
              0.8888888888888888,
              "#fdca26"
             ],
             [
              1.0,
              "#f0f921"
             ]
            ],
            "type": "heatmapgl"
           }
          ],
          "heatmap": [
           {
            "colorbar": {
             "outlinewidth": 0,
             "ticks": ""
            },
            "colorscale": [
             [
              0.0,
              "#0d0887"
             ],
             [
              0.1111111111111111,
              "#46039f"
             ],
             [
              0.2222222222222222,
              "#7201a8"
             ],
             [
              0.3333333333333333,
              "#9c179e"
             ],
             [
              0.4444444444444444,
              "#bd3786"
             ],
             [
              0.5555555555555556,
              "#d8576b"
             ],
             [
              0.6666666666666666,
              "#ed7953"
             ],
             [
              0.7777777777777778,
              "#fb9f3a"
             ],
             [
              0.8888888888888888,
              "#fdca26"
             ],
             [
              1.0,
              "#f0f921"
             ]
            ],
            "type": "heatmap"
           }
          ],
          "histogram2dcontour": [
           {
            "colorbar": {
             "outlinewidth": 0,
             "ticks": ""
            },
            "colorscale": [
             [
              0.0,
              "#0d0887"
             ],
             [
              0.1111111111111111,
              "#46039f"
             ],
             [
              0.2222222222222222,
              "#7201a8"
             ],
             [
              0.3333333333333333,
              "#9c179e"
             ],
             [
              0.4444444444444444,
              "#bd3786"
             ],
             [
              0.5555555555555556,
              "#d8576b"
             ],
             [
              0.6666666666666666,
              "#ed7953"
             ],
             [
              0.7777777777777778,
              "#fb9f3a"
             ],
             [
              0.8888888888888888,
              "#fdca26"
             ],
             [
              1.0,
              "#f0f921"
             ]
            ],
            "type": "histogram2dcontour"
           }
          ],
          "histogram2d": [
           {
            "colorbar": {
             "outlinewidth": 0,
             "ticks": ""
            },
            "colorscale": [
             [
              0.0,
              "#0d0887"
             ],
             [
              0.1111111111111111,
              "#46039f"
             ],
             [
              0.2222222222222222,
              "#7201a8"
             ],
             [
              0.3333333333333333,
              "#9c179e"
             ],
             [
              0.4444444444444444,
              "#bd3786"
             ],
             [
              0.5555555555555556,
              "#d8576b"
             ],
             [
              0.6666666666666666,
              "#ed7953"
             ],
             [
              0.7777777777777778,
              "#fb9f3a"
             ],
             [
              0.8888888888888888,
              "#fdca26"
             ],
             [
              1.0,
              "#f0f921"
             ]
            ],
            "type": "histogram2d"
           }
          ],
          "histogram": [
           {
            "marker": {
             "pattern": {
              "fillmode": "overlay",
              "size": 10,
              "solidity": 0.2
             }
            },
            "type": "histogram"
           }
          ],
          "mesh3d": [
           {
            "colorbar": {
             "outlinewidth": 0,
             "ticks": ""
            },
            "type": "mesh3d"
           }
          ],
          "parcoords": [
           {
            "line": {
             "colorbar": {
              "outlinewidth": 0,
              "ticks": ""
             }
            },
            "type": "parcoords"
           }
          ],
          "pie": [
           {
            "automargin": true,
            "type": "pie"
           }
          ],
          "scatter3d": [
           {
            "line": {
             "colorbar": {
              "outlinewidth": 0,
              "ticks": ""
             }
            },
            "marker": {
             "colorbar": {
              "outlinewidth": 0,
              "ticks": ""
             }
            },
            "type": "scatter3d"
           }
          ],
          "scattercarpet": [
           {
            "marker": {
             "colorbar": {
              "outlinewidth": 0,
              "ticks": ""
             }
            },
            "type": "scattercarpet"
           }
          ],
          "scattergeo": [
           {
            "marker": {
             "colorbar": {
              "outlinewidth": 0,
              "ticks": ""
             }
            },
            "type": "scattergeo"
           }
          ],
          "scattergl": [
           {
            "marker": {
             "colorbar": {
              "outlinewidth": 0,
              "ticks": ""
             }
            },
            "type": "scattergl"
           }
          ],
          "scattermapbox": [
           {
            "marker": {
             "colorbar": {
              "outlinewidth": 0,
              "ticks": ""
             }
            },
            "type": "scattermapbox"
           }
          ],
          "scatterpolargl": [
           {
            "marker": {
             "colorbar": {
              "outlinewidth": 0,
              "ticks": ""
             }
            },
            "type": "scatterpolargl"
           }
          ],
          "scatterpolar": [
           {
            "marker": {
             "colorbar": {
              "outlinewidth": 0,
              "ticks": ""
             }
            },
            "type": "scatterpolar"
           }
          ],
          "scatter": [
           {
            "fillpattern": {
             "fillmode": "overlay",
             "size": 10,
             "solidity": 0.2
            },
            "type": "scatter"
           }
          ],
          "scatterternary": [
           {
            "marker": {
             "colorbar": {
              "outlinewidth": 0,
              "ticks": ""
             }
            },
            "type": "scatterternary"
           }
          ],
          "surface": [
           {
            "colorbar": {
             "outlinewidth": 0,
             "ticks": ""
            },
            "colorscale": [
             [
              0.0,
              "#0d0887"
             ],
             [
              0.1111111111111111,
              "#46039f"
             ],
             [
              0.2222222222222222,
              "#7201a8"
             ],
             [
              0.3333333333333333,
              "#9c179e"
             ],
             [
              0.4444444444444444,
              "#bd3786"
             ],
             [
              0.5555555555555556,
              "#d8576b"
             ],
             [
              0.6666666666666666,
              "#ed7953"
             ],
             [
              0.7777777777777778,
              "#fb9f3a"
             ],
             [
              0.8888888888888888,
              "#fdca26"
             ],
             [
              1.0,
              "#f0f921"
             ]
            ],
            "type": "surface"
           }
          ],
          "table": [
           {
            "cells": {
             "fill": {
              "color": "#EBF0F8"
             },
             "line": {
              "color": "white"
             }
            },
            "header": {
             "fill": {
              "color": "#C8D4E3"
             },
             "line": {
              "color": "white"
             }
            },
            "type": "table"
           }
          ]
         },
         "layout": {
          "annotationdefaults": {
           "arrowcolor": "#2a3f5f",
           "arrowhead": 0,
           "arrowwidth": 1
          },
          "autotypenumbers": "strict",
          "coloraxis": {
           "colorbar": {
            "outlinewidth": 0,
            "ticks": ""
           }
          },
          "colorscale": {
           "diverging": [
            [
             0,
             "#8e0152"
            ],
            [
             0.1,
             "#c51b7d"
            ],
            [
             0.2,
             "#de77ae"
            ],
            [
             0.3,
             "#f1b6da"
            ],
            [
             0.4,
             "#fde0ef"
            ],
            [
             0.5,
             "#f7f7f7"
            ],
            [
             0.6,
             "#e6f5d0"
            ],
            [
             0.7,
             "#b8e186"
            ],
            [
             0.8,
             "#7fbc41"
            ],
            [
             0.9,
             "#4d9221"
            ],
            [
             1,
             "#276419"
            ]
           ],
           "sequential": [
            [
             0.0,
             "#0d0887"
            ],
            [
             0.1111111111111111,
             "#46039f"
            ],
            [
             0.2222222222222222,
             "#7201a8"
            ],
            [
             0.3333333333333333,
             "#9c179e"
            ],
            [
             0.4444444444444444,
             "#bd3786"
            ],
            [
             0.5555555555555556,
             "#d8576b"
            ],
            [
             0.6666666666666666,
             "#ed7953"
            ],
            [
             0.7777777777777778,
             "#fb9f3a"
            ],
            [
             0.8888888888888888,
             "#fdca26"
            ],
            [
             1.0,
             "#f0f921"
            ]
           ],
           "sequentialminus": [
            [
             0.0,
             "#0d0887"
            ],
            [
             0.1111111111111111,
             "#46039f"
            ],
            [
             0.2222222222222222,
             "#7201a8"
            ],
            [
             0.3333333333333333,
             "#9c179e"
            ],
            [
             0.4444444444444444,
             "#bd3786"
            ],
            [
             0.5555555555555556,
             "#d8576b"
            ],
            [
             0.6666666666666666,
             "#ed7953"
            ],
            [
             0.7777777777777778,
             "#fb9f3a"
            ],
            [
             0.8888888888888888,
             "#fdca26"
            ],
            [
             1.0,
             "#f0f921"
            ]
           ]
          },
          "colorway": [
           "#636efa",
           "#EF553B",
           "#00cc96",
           "#ab63fa",
           "#FFA15A",
           "#19d3f3",
           "#FF6692",
           "#B6E880",
           "#FF97FF",
           "#FECB52"
          ],
          "font": {
           "color": "#2a3f5f"
          },
          "geo": {
           "bgcolor": "white",
           "lakecolor": "white",
           "landcolor": "white",
           "showlakes": true,
           "showland": true,
           "subunitcolor": "#C8D4E3"
          },
          "hoverlabel": {
           "align": "left"
          },
          "hovermode": "closest",
          "mapbox": {
           "style": "light"
          },
          "paper_bgcolor": "white",
          "plot_bgcolor": "white",
          "polar": {
           "angularaxis": {
            "gridcolor": "#EBF0F8",
            "linecolor": "#EBF0F8",
            "ticks": ""
           },
           "bgcolor": "white",
           "radialaxis": {
            "gridcolor": "#EBF0F8",
            "linecolor": "#EBF0F8",
            "ticks": ""
           }
          },
          "scene": {
           "xaxis": {
            "backgroundcolor": "white",
            "gridcolor": "#DFE8F3",
            "gridwidth": 2,
            "linecolor": "#EBF0F8",
            "showbackground": true,
            "ticks": "",
            "zerolinecolor": "#EBF0F8"
           },
           "yaxis": {
            "backgroundcolor": "white",
            "gridcolor": "#DFE8F3",
            "gridwidth": 2,
            "linecolor": "#EBF0F8",
            "showbackground": true,
            "ticks": "",
            "zerolinecolor": "#EBF0F8"
           },
           "zaxis": {
            "backgroundcolor": "white",
            "gridcolor": "#DFE8F3",
            "gridwidth": 2,
            "linecolor": "#EBF0F8",
            "showbackground": true,
            "ticks": "",
            "zerolinecolor": "#EBF0F8"
           }
          },
          "shapedefaults": {
           "line": {
            "color": "#2a3f5f"
           }
          },
          "ternary": {
           "aaxis": {
            "gridcolor": "#DFE8F3",
            "linecolor": "#A2B1C6",
            "ticks": ""
           },
           "baxis": {
            "gridcolor": "#DFE8F3",
            "linecolor": "#A2B1C6",
            "ticks": ""
           },
           "bgcolor": "white",
           "caxis": {
            "gridcolor": "#DFE8F3",
            "linecolor": "#A2B1C6",
            "ticks": ""
           }
          },
          "title": {
           "x": 0.05
          },
          "xaxis": {
           "automargin": true,
           "gridcolor": "#EBF0F8",
           "linecolor": "#EBF0F8",
           "ticks": "",
           "title": {
            "standoff": 15
           },
           "zerolinecolor": "#EBF0F8",
           "zerolinewidth": 2
          },
          "yaxis": {
           "automargin": true,
           "gridcolor": "#EBF0F8",
           "linecolor": "#EBF0F8",
           "ticks": "",
           "title": {
            "standoff": 15
           },
           "zerolinecolor": "#EBF0F8",
           "zerolinewidth": 2
          }
         }
        },
        "xaxis": {
         "anchor": "y",
         "domain": [
          0.0,
          1.0
         ],
         "title": {
          "text": ""
         },
         "tickangle": -45
        },
        "yaxis": {
         "anchor": "x",
         "domain": [
          0.0,
          1.0
         ],
         "title": {
          "text": "Prevalence (%)"
         },
         "range": [
          0,
          100
         ]
        },
        "legend": {
         "tracegroupgap": 0
        },
        "title": {
         "text": "Mental Health Conditions Prevalence in Tech Industry (2014-2019)",
         "x": 0.5
        },
        "barmode": "relative",
        "showlegend": false
       },
       "config": {
        "plotlyServerURL": "https://plot.ly"
       }
      },
      "text/html": [
       "<div>                            <div id=\"72425b3e-8f48-46ea-a6c9-8931026759a5\" class=\"plotly-graph-div\" style=\"height:525px; width:100%;\"></div>            <script type=\"text/javascript\">                require([\"plotly\"], function(Plotly) {                    window.PLOTLYENV=window.PLOTLYENV || {};                                    if (document.getElementById(\"72425b3e-8f48-46ea-a6c9-8931026759a5\")) {                    Plotly.newPlot(                        \"72425b3e-8f48-46ea-a6c9-8931026759a5\",                        [{\"alignmentgroup\":\"True\",\"error_y\":{\"array\":[{\"array\":[1.801853488656846]},{\"array\":[1.7870900368390537]},{\"array\":[1.8002622665872394]}],\"arrayminus\":[{\"array\":[1.796416307168883]},{\"array\":[1.7658674897408915]},{\"array\":[1.7900894754162309]}]},\"hovertemplate\":\"\\u003cb\\u003e%{x}\\u003c\\u002fb\\u003e\\u003cbr\\u003ePrevalence: %{y:.1f}%\\u003cbr\\u003e95% CI: (%{customdata[0]:.1f}% - %{customdata[1]:.1f}%)\\u003cbr\\u003e\\u003cextra\\u003e\\u003c\\u002fextra\\u003e\",\"legendgroup\":\"\",\"marker\":{\"color\":\"#636efa\",\"pattern\":{\"shape\":\"\"}},\"name\":\"\",\"offsetgroup\":\"\",\"orientation\":\"v\",\"showlegend\":false,\"textposition\":\"auto\",\"x\":[\"had a mental health disorder in the past\",\"Do you currently have a mental health disorder\",\"ever been diagnosed with a mental health disorder\"],\"xaxis\":\"x\",\"y\":[47.903989181879645,41.81879648411089,46.07843137254902],\"yaxis\":\"y\",\"type\":\"bar\",\"customdata\":[[46.10757287471076,49.70584267053649],[40.05292899437,43.605886520949944],[44.28834189713279,47.87869363913626]]}],                        {\"template\":{\"data\":{\"barpolar\":[{\"marker\":{\"line\":{\"color\":\"white\",\"width\":0.5},\"pattern\":{\"fillmode\":\"overlay\",\"size\":10,\"solidity\":0.2}},\"type\":\"barpolar\"}],\"bar\":[{\"error_x\":{\"color\":\"#2a3f5f\"},\"error_y\":{\"color\":\"#2a3f5f\"},\"marker\":{\"line\":{\"color\":\"white\",\"width\":0.5},\"pattern\":{\"fillmode\":\"overlay\",\"size\":10,\"solidity\":0.2}},\"type\":\"bar\"}],\"carpet\":[{\"aaxis\":{\"endlinecolor\":\"#2a3f5f\",\"gridcolor\":\"#C8D4E3\",\"linecolor\":\"#C8D4E3\",\"minorgridcolor\":\"#C8D4E3\",\"startlinecolor\":\"#2a3f5f\"},\"baxis\":{\"endlinecolor\":\"#2a3f5f\",\"gridcolor\":\"#C8D4E3\",\"linecolor\":\"#C8D4E3\",\"minorgridcolor\":\"#C8D4E3\",\"startlinecolor\":\"#2a3f5f\"},\"type\":\"carpet\"}],\"choropleth\":[{\"colorbar\":{\"outlinewidth\":0,\"ticks\":\"\"},\"type\":\"choropleth\"}],\"contourcarpet\":[{\"colorbar\":{\"outlinewidth\":0,\"ticks\":\"\"},\"type\":\"contourcarpet\"}],\"contour\":[{\"colorbar\":{\"outlinewidth\":0,\"ticks\":\"\"},\"colorscale\":[[0.0,\"#0d0887\"],[0.1111111111111111,\"#46039f\"],[0.2222222222222222,\"#7201a8\"],[0.3333333333333333,\"#9c179e\"],[0.4444444444444444,\"#bd3786\"],[0.5555555555555556,\"#d8576b\"],[0.6666666666666666,\"#ed7953\"],[0.7777777777777778,\"#fb9f3a\"],[0.8888888888888888,\"#fdca26\"],[1.0,\"#f0f921\"]],\"type\":\"contour\"}],\"heatmapgl\":[{\"colorbar\":{\"outlinewidth\":0,\"ticks\":\"\"},\"colorscale\":[[0.0,\"#0d0887\"],[0.1111111111111111,\"#46039f\"],[0.2222222222222222,\"#7201a8\"],[0.3333333333333333,\"#9c179e\"],[0.4444444444444444,\"#bd3786\"],[0.5555555555555556,\"#d8576b\"],[0.6666666666666666,\"#ed7953\"],[0.7777777777777778,\"#fb9f3a\"],[0.8888888888888888,\"#fdca26\"],[1.0,\"#f0f921\"]],\"type\":\"heatmapgl\"}],\"heatmap\":[{\"colorbar\":{\"outlinewidth\":0,\"ticks\":\"\"},\"colorscale\":[[0.0,\"#0d0887\"],[0.1111111111111111,\"#46039f\"],[0.2222222222222222,\"#7201a8\"],[0.3333333333333333,\"#9c179e\"],[0.4444444444444444,\"#bd3786\"],[0.5555555555555556,\"#d8576b\"],[0.6666666666666666,\"#ed7953\"],[0.7777777777777778,\"#fb9f3a\"],[0.8888888888888888,\"#fdca26\"],[1.0,\"#f0f921\"]],\"type\":\"heatmap\"}],\"histogram2dcontour\":[{\"colorbar\":{\"outlinewidth\":0,\"ticks\":\"\"},\"colorscale\":[[0.0,\"#0d0887\"],[0.1111111111111111,\"#46039f\"],[0.2222222222222222,\"#7201a8\"],[0.3333333333333333,\"#9c179e\"],[0.4444444444444444,\"#bd3786\"],[0.5555555555555556,\"#d8576b\"],[0.6666666666666666,\"#ed7953\"],[0.7777777777777778,\"#fb9f3a\"],[0.8888888888888888,\"#fdca26\"],[1.0,\"#f0f921\"]],\"type\":\"histogram2dcontour\"}],\"histogram2d\":[{\"colorbar\":{\"outlinewidth\":0,\"ticks\":\"\"},\"colorscale\":[[0.0,\"#0d0887\"],[0.1111111111111111,\"#46039f\"],[0.2222222222222222,\"#7201a8\"],[0.3333333333333333,\"#9c179e\"],[0.4444444444444444,\"#bd3786\"],[0.5555555555555556,\"#d8576b\"],[0.6666666666666666,\"#ed7953\"],[0.7777777777777778,\"#fb9f3a\"],[0.8888888888888888,\"#fdca26\"],[1.0,\"#f0f921\"]],\"type\":\"histogram2d\"}],\"histogram\":[{\"marker\":{\"pattern\":{\"fillmode\":\"overlay\",\"size\":10,\"solidity\":0.2}},\"type\":\"histogram\"}],\"mesh3d\":[{\"colorbar\":{\"outlinewidth\":0,\"ticks\":\"\"},\"type\":\"mesh3d\"}],\"parcoords\":[{\"line\":{\"colorbar\":{\"outlinewidth\":0,\"ticks\":\"\"}},\"type\":\"parcoords\"}],\"pie\":[{\"automargin\":true,\"type\":\"pie\"}],\"scatter3d\":[{\"line\":{\"colorbar\":{\"outlinewidth\":0,\"ticks\":\"\"}},\"marker\":{\"colorbar\":{\"outlinewidth\":0,\"ticks\":\"\"}},\"type\":\"scatter3d\"}],\"scattercarpet\":[{\"marker\":{\"colorbar\":{\"outlinewidth\":0,\"ticks\":\"\"}},\"type\":\"scattercarpet\"}],\"scattergeo\":[{\"marker\":{\"colorbar\":{\"outlinewidth\":0,\"ticks\":\"\"}},\"type\":\"scattergeo\"}],\"scattergl\":[{\"marker\":{\"colorbar\":{\"outlinewidth\":0,\"ticks\":\"\"}},\"type\":\"scattergl\"}],\"scattermapbox\":[{\"marker\":{\"colorbar\":{\"outlinewidth\":0,\"ticks\":\"\"}},\"type\":\"scattermapbox\"}],\"scatterpolargl\":[{\"marker\":{\"colorbar\":{\"outlinewidth\":0,\"ticks\":\"\"}},\"type\":\"scatterpolargl\"}],\"scatterpolar\":[{\"marker\":{\"colorbar\":{\"outlinewidth\":0,\"ticks\":\"\"}},\"type\":\"scatterpolar\"}],\"scatter\":[{\"fillpattern\":{\"fillmode\":\"overlay\",\"size\":10,\"solidity\":0.2},\"type\":\"scatter\"}],\"scatterternary\":[{\"marker\":{\"colorbar\":{\"outlinewidth\":0,\"ticks\":\"\"}},\"type\":\"scatterternary\"}],\"surface\":[{\"colorbar\":{\"outlinewidth\":0,\"ticks\":\"\"},\"colorscale\":[[0.0,\"#0d0887\"],[0.1111111111111111,\"#46039f\"],[0.2222222222222222,\"#7201a8\"],[0.3333333333333333,\"#9c179e\"],[0.4444444444444444,\"#bd3786\"],[0.5555555555555556,\"#d8576b\"],[0.6666666666666666,\"#ed7953\"],[0.7777777777777778,\"#fb9f3a\"],[0.8888888888888888,\"#fdca26\"],[1.0,\"#f0f921\"]],\"type\":\"surface\"}],\"table\":[{\"cells\":{\"fill\":{\"color\":\"#EBF0F8\"},\"line\":{\"color\":\"white\"}},\"header\":{\"fill\":{\"color\":\"#C8D4E3\"},\"line\":{\"color\":\"white\"}},\"type\":\"table\"}]},\"layout\":{\"annotationdefaults\":{\"arrowcolor\":\"#2a3f5f\",\"arrowhead\":0,\"arrowwidth\":1},\"autotypenumbers\":\"strict\",\"coloraxis\":{\"colorbar\":{\"outlinewidth\":0,\"ticks\":\"\"}},\"colorscale\":{\"diverging\":[[0,\"#8e0152\"],[0.1,\"#c51b7d\"],[0.2,\"#de77ae\"],[0.3,\"#f1b6da\"],[0.4,\"#fde0ef\"],[0.5,\"#f7f7f7\"],[0.6,\"#e6f5d0\"],[0.7,\"#b8e186\"],[0.8,\"#7fbc41\"],[0.9,\"#4d9221\"],[1,\"#276419\"]],\"sequential\":[[0.0,\"#0d0887\"],[0.1111111111111111,\"#46039f\"],[0.2222222222222222,\"#7201a8\"],[0.3333333333333333,\"#9c179e\"],[0.4444444444444444,\"#bd3786\"],[0.5555555555555556,\"#d8576b\"],[0.6666666666666666,\"#ed7953\"],[0.7777777777777778,\"#fb9f3a\"],[0.8888888888888888,\"#fdca26\"],[1.0,\"#f0f921\"]],\"sequentialminus\":[[0.0,\"#0d0887\"],[0.1111111111111111,\"#46039f\"],[0.2222222222222222,\"#7201a8\"],[0.3333333333333333,\"#9c179e\"],[0.4444444444444444,\"#bd3786\"],[0.5555555555555556,\"#d8576b\"],[0.6666666666666666,\"#ed7953\"],[0.7777777777777778,\"#fb9f3a\"],[0.8888888888888888,\"#fdca26\"],[1.0,\"#f0f921\"]]},\"colorway\":[\"#636efa\",\"#EF553B\",\"#00cc96\",\"#ab63fa\",\"#FFA15A\",\"#19d3f3\",\"#FF6692\",\"#B6E880\",\"#FF97FF\",\"#FECB52\"],\"font\":{\"color\":\"#2a3f5f\"},\"geo\":{\"bgcolor\":\"white\",\"lakecolor\":\"white\",\"landcolor\":\"white\",\"showlakes\":true,\"showland\":true,\"subunitcolor\":\"#C8D4E3\"},\"hoverlabel\":{\"align\":\"left\"},\"hovermode\":\"closest\",\"mapbox\":{\"style\":\"light\"},\"paper_bgcolor\":\"white\",\"plot_bgcolor\":\"white\",\"polar\":{\"angularaxis\":{\"gridcolor\":\"#EBF0F8\",\"linecolor\":\"#EBF0F8\",\"ticks\":\"\"},\"bgcolor\":\"white\",\"radialaxis\":{\"gridcolor\":\"#EBF0F8\",\"linecolor\":\"#EBF0F8\",\"ticks\":\"\"}},\"scene\":{\"xaxis\":{\"backgroundcolor\":\"white\",\"gridcolor\":\"#DFE8F3\",\"gridwidth\":2,\"linecolor\":\"#EBF0F8\",\"showbackground\":true,\"ticks\":\"\",\"zerolinecolor\":\"#EBF0F8\"},\"yaxis\":{\"backgroundcolor\":\"white\",\"gridcolor\":\"#DFE8F3\",\"gridwidth\":2,\"linecolor\":\"#EBF0F8\",\"showbackground\":true,\"ticks\":\"\",\"zerolinecolor\":\"#EBF0F8\"},\"zaxis\":{\"backgroundcolor\":\"white\",\"gridcolor\":\"#DFE8F3\",\"gridwidth\":2,\"linecolor\":\"#EBF0F8\",\"showbackground\":true,\"ticks\":\"\",\"zerolinecolor\":\"#EBF0F8\"}},\"shapedefaults\":{\"line\":{\"color\":\"#2a3f5f\"}},\"ternary\":{\"aaxis\":{\"gridcolor\":\"#DFE8F3\",\"linecolor\":\"#A2B1C6\",\"ticks\":\"\"},\"baxis\":{\"gridcolor\":\"#DFE8F3\",\"linecolor\":\"#A2B1C6\",\"ticks\":\"\"},\"bgcolor\":\"white\",\"caxis\":{\"gridcolor\":\"#DFE8F3\",\"linecolor\":\"#A2B1C6\",\"ticks\":\"\"}},\"title\":{\"x\":0.05},\"xaxis\":{\"automargin\":true,\"gridcolor\":\"#EBF0F8\",\"linecolor\":\"#EBF0F8\",\"ticks\":\"\",\"title\":{\"standoff\":15},\"zerolinecolor\":\"#EBF0F8\",\"zerolinewidth\":2},\"yaxis\":{\"automargin\":true,\"gridcolor\":\"#EBF0F8\",\"linecolor\":\"#EBF0F8\",\"ticks\":\"\",\"title\":{\"standoff\":15},\"zerolinecolor\":\"#EBF0F8\",\"zerolinewidth\":2}}},\"xaxis\":{\"anchor\":\"y\",\"domain\":[0.0,1.0],\"title\":{\"text\":\"\"},\"tickangle\":-45},\"yaxis\":{\"anchor\":\"x\",\"domain\":[0.0,1.0],\"title\":{\"text\":\"Prevalence (%)\"},\"range\":[0,100]},\"legend\":{\"tracegroupgap\":0},\"title\":{\"text\":\"Mental Health Conditions Prevalence in Tech Industry (2014-2019)\",\"x\":0.5},\"barmode\":\"relative\",\"showlegend\":false},                        {\"responsive\": true}                    ).then(function(){\n",
       "                            \n",
       "var gd = document.getElementById('72425b3e-8f48-46ea-a6c9-8931026759a5');\n",
       "var x = new MutationObserver(function (mutations, observer) {{\n",
       "        var display = window.getComputedStyle(gd).display;\n",
       "        if (!display || display === 'none') {{\n",
       "            console.log([gd, 'removed!']);\n",
       "            Plotly.purge(gd);\n",
       "            observer.disconnect();\n",
       "        }}\n",
       "}});\n",
       "\n",
       "// Listen for the removal of the full notebook cells\n",
       "var notebookContainer = gd.closest('#notebook-container');\n",
       "if (notebookContainer) {{\n",
       "    x.observe(notebookContainer, {childList: true});\n",
       "}}\n",
       "\n",
       "// Listen for the clearing of the current output cell\n",
       "var outputEl = gd.closest('.output');\n",
       "if (outputEl) {{\n",
       "    x.observe(outputEl, {childList: true});\n",
       "}}\n",
       "\n",
       "                        })                };                });            </script>        </div>"
      ]
     },
     "metadata": {},
     "output_type": "display_data"
    },
    {
     "data": {
      "text/plain": [
       "'\\n### Interpretation of Mental Health Prevalence Results:\\n\\n1. Past Mental Health Disorders:\\n   - Prevalence: 47.9% (95% CI: 46.1% - 49.7%)\\n   - Highest prevalence among the three measures\\n\\n2. Current Mental Health Disorders:\\n   - Prevalence: 41.8% (95% CI: 40.1% - 43.6%)\\n   - Lower than past disorders, suggesting possible recovery or management\\n\\n3. Diagnosed Mental Health Disorders:\\n   - Prevalence: 46.1% (95% CI: 44.3% - 47.9%)\\n   - High diagnosis rate indicates good healthcare access\\n\\nKey Observations:\\n1. High Overall Prevalence: All measures show rates >35%\\n2. Narrow Confidence Intervals: Indicates precise estimates\\n3. Treatment Gap: Difference between past and current prevalence suggests successful interventions\\n4. Possible Underreporting: Some may not seek diagnosis or disclose conditions\\n'"
      ]
     },
     "execution_count": 35,
     "metadata": {},
     "output_type": "execute_result"
    }
   ],
   "execution_count": 35
  },
  {
   "metadata": {
    "ExecuteTime": {
     "end_time": "2024-11-12T06:57:27.523661Z",
     "start_time": "2024-11-12T06:57:27.520874Z"
    }
   },
   "cell_type": "code",
   "source": [
    "# # Calculate yearly prevalence for each question\n",
    "# questions = [\n",
    "#     \"Have you had a mental health disorder in the past?\",\n",
    "#     \"Do you currently have a mental health disorder?\",\n",
    "#     \"Have you ever been diagnosed with a mental health disorder?\"\n",
    "# ]\n",
    "# \n",
    "# yearly_plot_data = []\n",
    "# for question in questions:\n",
    "#     yearly_plot_data.extend(helpers.calculate_yearly_prevalence_ci(df, question))\n",
    "# \n",
    "# # Convert to DataFrame\n",
    "# yearly_df = pd.DataFrame(yearly_plot_data)\n",
    "# \n",
    "# # Create the trend plot\n",
    "# fig = px.scatter(yearly_df,\n",
    "#                  x='Year',\n",
    "#                  y='Prevalence',\n",
    "#                  color='Question',\n",
    "#                  error_y=yearly_df.apply(lambda row: {'array': [row['CI_upper'] - row['Prevalence']]}, axis=1),\n",
    "#                  error_y_minus=yearly_df.apply(lambda row: {'array': [row['Prevalence'] - row['CI_lower']]}, axis=1),\n",
    "#                  title='Mental Health Conditions Prevalence by Survey Year')\n",
    "# \n",
    "# # Add lines connecting points within each group\n",
    "# for question in yearly_df['Question'].unique():\n",
    "#     question_data = yearly_df[yearly_df['Question'] == question]\n",
    "#     fig.add_scatter(x=question_data['Year'],\n",
    "#                     y=question_data['Prevalence'],\n",
    "#                     mode='lines',\n",
    "#                     showlegend=False,\n",
    "#                     line=dict(dash='dash'),\n",
    "#                     hoverinfo='skip')\n",
    "# \n",
    "# # Update layout\n",
    "# fig.update_layout(\n",
    "#     xaxis_title=\"Survey Year\",\n",
    "#     yaxis_title=\"Prevalence (%)\",\n",
    "#     yaxis_range=[0, max(yearly_df['CI_upper'].max() * 1.1, 100)],\n",
    "#     title_x=0.5,\n",
    "#     template='plotly_white',\n",
    "#     hovermode='x unified',\n",
    "#     xaxis=dict(\n",
    "#         tickmode='array',\n",
    "#         tickvals=[2014, 2016, 2017, 2018, 2019],  # Specify exact years\n",
    "#         ticktext=['2014', '2016', '2017', '2018', '2019']\n",
    "#     )\n",
    "# )\n",
    "# \n",
    "# # Add hover template\n",
    "# fig.update_traces(\n",
    "#     hovertemplate=\"<br>\".join([\n",
    "#         \"Year: %{x}\",\n",
    "#         \"Prevalence: %{y:.1f}%\",\n",
    "#         \"95% CI: (%{customdata[0]:.1f}% - %{customdata[1]:.1f}%)\",\n",
    "#         \"<extra>%{name}</extra>\"\n",
    "#     ]),\n",
    "#     customdata=yearly_df[['CI_lower', 'CI_upper']],\n",
    "#     selector=dict(mode='markers')  # Only apply to scatter points\n",
    "# )\n",
    "# \n",
    "# fig.show()"
   ],
   "id": "823d87b51ecef969",
   "outputs": [],
   "execution_count": 36
  },
  {
   "metadata": {
    "ExecuteTime": {
     "end_time": "2024-11-12T06:57:27.730308Z",
     "start_time": "2024-11-12T06:57:27.563092Z"
    }
   },
   "cell_type": "code",
   "source": [
    "# First, let's see what conditions people report\n",
    "diagnosis_responses = df[df['question_text'] == \"If yes, what condition(s) have you been diagnosed with?\"]\n",
    "\n",
    "# We might need to clean and standardize the responses as they might be free text\n",
    "conditions_plot_data = []\n",
    "\n",
    "# Common conditions to look for\n",
    "conditions = [\n",
    "    \"depression\",\n",
    "    \"anxiety\",\n",
    "    \"bipolar disorder\",\n",
    "    \"ptsd\",\n",
    "    \"adhd\"\n",
    "]\n",
    "\n",
    "# Calculate prevalence for each condition\n",
    "total_respondents = df['user_id'].nunique()\n",
    "\n",
    "for condition in conditions:\n",
    "    # Count unique users who reported this condition\n",
    "    condition_count = diagnosis_responses[\n",
    "        diagnosis_responses['answer_text'].str.lower().str.contains(condition, na=False)\n",
    "    ]['user_id'].nunique()\n",
    "\n",
    "    # Calculate prevalence and CI\n",
    "    prev, lower, upper = helpers.calculate_prevalence_ci(\n",
    "        df,\n",
    "        \"If yes, what condition(s) have you been diagnosed with?\",\n",
    "        # Looking for any response containing this condition\n",
    "        positive_responses=diagnosis_responses[\n",
    "            diagnosis_responses['answer_text'].str.lower().str.contains(condition, na=False)\n",
    "        ]['answer_text'].unique()\n",
    "    )\n",
    "\n",
    "    conditions_plot_data.append({\n",
    "        'Condition': condition.upper(),\n",
    "        'Prevalence': prev,\n",
    "        'CI_lower': lower,\n",
    "        'CI_upper': upper,\n",
    "        'Count': condition_count\n",
    "    })\n",
    "\n",
    "# Convert to DataFrame\n",
    "conditions_df = pd.DataFrame(conditions_plot_data)\n",
    "\n",
    "# Create the plot\n",
    "fig = px.bar(conditions_df,\n",
    "             x='Condition',\n",
    "             y='Prevalence',\n",
    "             error_y=conditions_df.apply(lambda row: {'array': [row['CI_upper'] - row['Prevalence']]}, axis=1),\n",
    "             error_y_minus=conditions_df.apply(lambda row: {'array': [row['Prevalence'] - row['CI_lower']]}, axis=1),\n",
    "             title='Prevalence of Specific Mental Health Conditions in Tech Industry')\n",
    "\n",
    "# Update layout\n",
    "fig.update_layout(\n",
    "    xaxis_title=\"Condition\",\n",
    "    yaxis_title=\"Prevalence (%)\",\n",
    "    title_x=0.5,\n",
    "    template='plotly_white',\n",
    "    showlegend=False,\n",
    "    xaxis_tickangle=-45\n",
    ")\n",
    "\n",
    "# Add hover template\n",
    "fig.update_traces(\n",
    "    hovertemplate=\"<br>\".join([\n",
    "        \"<b>%{x}</b>\",\n",
    "        \"Prevalence: %{y:.1f}%\",\n",
    "        \"95% CI: (%{customdata[0]:.1f}% - %{customdata[1]:.1f}%)\",\n",
    "        \"Count: %{customdata[2]}\",\n",
    "        \"<extra></extra>\"\n",
    "    ]),\n",
    "    customdata=conditions_df[['CI_lower', 'CI_upper', 'Count']]\n",
    ")\n",
    "\n",
    "fig.show()\n",
    "\n",
    "# Print detailed statistics\n",
    "print(\"\\nDetailed Statistics:\")\n",
    "for _, row in conditions_df.iterrows():\n",
    "    print(f\"\\n{row['Condition']}:\")\n",
    "    print(f\"Prevalence: {row['Prevalence']:.1f}%\")\n",
    "    print(f\"95% CI: ({row['CI_lower']:.1f}% - {row['CI_upper']:.1f}%)\")\n",
    "    print(f\"Count: {row['Count']}\")"
   ],
   "id": "e93a50304bc8a207",
   "outputs": [
    {
     "data": {
      "application/vnd.plotly.v1+json": {
       "data": [
        {
         "alignmentgroup": "True",
         "error_y": {
          "array": [
           {
            "array": [
             2.4007685777890657
            ]
           },
           {
            "array": [
             2.283088044274283
            ]
           },
           {
            "array": [
             2.397777157344379
            ]
           },
           {
            "array": [
             0.3244554373212907
            ]
           },
           {
            "array": [
             0.3244554373212907
            ]
           }
          ],
          "arrayminus": [
           {
            "array": [
             2.2878897648565584
            ]
           },
           {
            "array": [
             2.144834820500755
            ]
           },
           {
            "array": [
             2.2841520382106673
            ]
           },
           {
            "array": [
             0.057464393839612424
            ]
           },
           {
            "array": [
             0.057464393839612424
            ]
           }
          ]
         },
         "hovertemplate": "<b>%{x}</b><br>Prevalence: %{y:.1f}%<br>95% CI: (%{customdata[0]:.1f}% - %{customdata[1]:.1f}%)<br>Count: %{customdata[2]}<br><extra></extra>",
         "legendgroup": "",
         "marker": {
          "color": "#636efa",
          "pattern": {
           "shape": ""
          }
         },
         "name": "",
         "offsetgroup": "",
         "orientation": "v",
         "showlegend": false,
         "textposition": "auto",
         "x": [
          "DEPRESSION",
          "ANXIETY",
          "BIPOLAR DISORDER",
          "PTSD",
          "ADHD"
         ],
         "xaxis": "x",
         "y": [
          28.890439637124913,
          24.145150034891834,
          28.75087229588276,
          0.06978367062107467,
          0.06978367062107467
         ],
         "yaxis": "y",
         "type": "bar",
         "customdata": [
          [
           26.602549872268355,
           31.29120821491398,
           414.0
          ],
          [
           22.00031521439108,
           26.428238079166118,
           346.0
          ],
          [
           26.466720257672094,
           31.14864945322714,
           412.0
          ],
          [
           0.012319276781462248,
           0.39423910794236533,
           1.0
          ],
          [
           0.012319276781462248,
           0.39423910794236533,
           1.0
          ]
         ]
        }
       ],
       "layout": {
        "template": {
         "data": {
          "barpolar": [
           {
            "marker": {
             "line": {
              "color": "white",
              "width": 0.5
             },
             "pattern": {
              "fillmode": "overlay",
              "size": 10,
              "solidity": 0.2
             }
            },
            "type": "barpolar"
           }
          ],
          "bar": [
           {
            "error_x": {
             "color": "#2a3f5f"
            },
            "error_y": {
             "color": "#2a3f5f"
            },
            "marker": {
             "line": {
              "color": "white",
              "width": 0.5
             },
             "pattern": {
              "fillmode": "overlay",
              "size": 10,
              "solidity": 0.2
             }
            },
            "type": "bar"
           }
          ],
          "carpet": [
           {
            "aaxis": {
             "endlinecolor": "#2a3f5f",
             "gridcolor": "#C8D4E3",
             "linecolor": "#C8D4E3",
             "minorgridcolor": "#C8D4E3",
             "startlinecolor": "#2a3f5f"
            },
            "baxis": {
             "endlinecolor": "#2a3f5f",
             "gridcolor": "#C8D4E3",
             "linecolor": "#C8D4E3",
             "minorgridcolor": "#C8D4E3",
             "startlinecolor": "#2a3f5f"
            },
            "type": "carpet"
           }
          ],
          "choropleth": [
           {
            "colorbar": {
             "outlinewidth": 0,
             "ticks": ""
            },
            "type": "choropleth"
           }
          ],
          "contourcarpet": [
           {
            "colorbar": {
             "outlinewidth": 0,
             "ticks": ""
            },
            "type": "contourcarpet"
           }
          ],
          "contour": [
           {
            "colorbar": {
             "outlinewidth": 0,
             "ticks": ""
            },
            "colorscale": [
             [
              0.0,
              "#0d0887"
             ],
             [
              0.1111111111111111,
              "#46039f"
             ],
             [
              0.2222222222222222,
              "#7201a8"
             ],
             [
              0.3333333333333333,
              "#9c179e"
             ],
             [
              0.4444444444444444,
              "#bd3786"
             ],
             [
              0.5555555555555556,
              "#d8576b"
             ],
             [
              0.6666666666666666,
              "#ed7953"
             ],
             [
              0.7777777777777778,
              "#fb9f3a"
             ],
             [
              0.8888888888888888,
              "#fdca26"
             ],
             [
              1.0,
              "#f0f921"
             ]
            ],
            "type": "contour"
           }
          ],
          "heatmapgl": [
           {
            "colorbar": {
             "outlinewidth": 0,
             "ticks": ""
            },
            "colorscale": [
             [
              0.0,
              "#0d0887"
             ],
             [
              0.1111111111111111,
              "#46039f"
             ],
             [
              0.2222222222222222,
              "#7201a8"
             ],
             [
              0.3333333333333333,
              "#9c179e"
             ],
             [
              0.4444444444444444,
              "#bd3786"
             ],
             [
              0.5555555555555556,
              "#d8576b"
             ],
             [
              0.6666666666666666,
              "#ed7953"
             ],
             [
              0.7777777777777778,
              "#fb9f3a"
             ],
             [
              0.8888888888888888,
              "#fdca26"
             ],
             [
              1.0,
              "#f0f921"
             ]
            ],
            "type": "heatmapgl"
           }
          ],
          "heatmap": [
           {
            "colorbar": {
             "outlinewidth": 0,
             "ticks": ""
            },
            "colorscale": [
             [
              0.0,
              "#0d0887"
             ],
             [
              0.1111111111111111,
              "#46039f"
             ],
             [
              0.2222222222222222,
              "#7201a8"
             ],
             [
              0.3333333333333333,
              "#9c179e"
             ],
             [
              0.4444444444444444,
              "#bd3786"
             ],
             [
              0.5555555555555556,
              "#d8576b"
             ],
             [
              0.6666666666666666,
              "#ed7953"
             ],
             [
              0.7777777777777778,
              "#fb9f3a"
             ],
             [
              0.8888888888888888,
              "#fdca26"
             ],
             [
              1.0,
              "#f0f921"
             ]
            ],
            "type": "heatmap"
           }
          ],
          "histogram2dcontour": [
           {
            "colorbar": {
             "outlinewidth": 0,
             "ticks": ""
            },
            "colorscale": [
             [
              0.0,
              "#0d0887"
             ],
             [
              0.1111111111111111,
              "#46039f"
             ],
             [
              0.2222222222222222,
              "#7201a8"
             ],
             [
              0.3333333333333333,
              "#9c179e"
             ],
             [
              0.4444444444444444,
              "#bd3786"
             ],
             [
              0.5555555555555556,
              "#d8576b"
             ],
             [
              0.6666666666666666,
              "#ed7953"
             ],
             [
              0.7777777777777778,
              "#fb9f3a"
             ],
             [
              0.8888888888888888,
              "#fdca26"
             ],
             [
              1.0,
              "#f0f921"
             ]
            ],
            "type": "histogram2dcontour"
           }
          ],
          "histogram2d": [
           {
            "colorbar": {
             "outlinewidth": 0,
             "ticks": ""
            },
            "colorscale": [
             [
              0.0,
              "#0d0887"
             ],
             [
              0.1111111111111111,
              "#46039f"
             ],
             [
              0.2222222222222222,
              "#7201a8"
             ],
             [
              0.3333333333333333,
              "#9c179e"
             ],
             [
              0.4444444444444444,
              "#bd3786"
             ],
             [
              0.5555555555555556,
              "#d8576b"
             ],
             [
              0.6666666666666666,
              "#ed7953"
             ],
             [
              0.7777777777777778,
              "#fb9f3a"
             ],
             [
              0.8888888888888888,
              "#fdca26"
             ],
             [
              1.0,
              "#f0f921"
             ]
            ],
            "type": "histogram2d"
           }
          ],
          "histogram": [
           {
            "marker": {
             "pattern": {
              "fillmode": "overlay",
              "size": 10,
              "solidity": 0.2
             }
            },
            "type": "histogram"
           }
          ],
          "mesh3d": [
           {
            "colorbar": {
             "outlinewidth": 0,
             "ticks": ""
            },
            "type": "mesh3d"
           }
          ],
          "parcoords": [
           {
            "line": {
             "colorbar": {
              "outlinewidth": 0,
              "ticks": ""
             }
            },
            "type": "parcoords"
           }
          ],
          "pie": [
           {
            "automargin": true,
            "type": "pie"
           }
          ],
          "scatter3d": [
           {
            "line": {
             "colorbar": {
              "outlinewidth": 0,
              "ticks": ""
             }
            },
            "marker": {
             "colorbar": {
              "outlinewidth": 0,
              "ticks": ""
             }
            },
            "type": "scatter3d"
           }
          ],
          "scattercarpet": [
           {
            "marker": {
             "colorbar": {
              "outlinewidth": 0,
              "ticks": ""
             }
            },
            "type": "scattercarpet"
           }
          ],
          "scattergeo": [
           {
            "marker": {
             "colorbar": {
              "outlinewidth": 0,
              "ticks": ""
             }
            },
            "type": "scattergeo"
           }
          ],
          "scattergl": [
           {
            "marker": {
             "colorbar": {
              "outlinewidth": 0,
              "ticks": ""
             }
            },
            "type": "scattergl"
           }
          ],
          "scattermapbox": [
           {
            "marker": {
             "colorbar": {
              "outlinewidth": 0,
              "ticks": ""
             }
            },
            "type": "scattermapbox"
           }
          ],
          "scatterpolargl": [
           {
            "marker": {
             "colorbar": {
              "outlinewidth": 0,
              "ticks": ""
             }
            },
            "type": "scatterpolargl"
           }
          ],
          "scatterpolar": [
           {
            "marker": {
             "colorbar": {
              "outlinewidth": 0,
              "ticks": ""
             }
            },
            "type": "scatterpolar"
           }
          ],
          "scatter": [
           {
            "fillpattern": {
             "fillmode": "overlay",
             "size": 10,
             "solidity": 0.2
            },
            "type": "scatter"
           }
          ],
          "scatterternary": [
           {
            "marker": {
             "colorbar": {
              "outlinewidth": 0,
              "ticks": ""
             }
            },
            "type": "scatterternary"
           }
          ],
          "surface": [
           {
            "colorbar": {
             "outlinewidth": 0,
             "ticks": ""
            },
            "colorscale": [
             [
              0.0,
              "#0d0887"
             ],
             [
              0.1111111111111111,
              "#46039f"
             ],
             [
              0.2222222222222222,
              "#7201a8"
             ],
             [
              0.3333333333333333,
              "#9c179e"
             ],
             [
              0.4444444444444444,
              "#bd3786"
             ],
             [
              0.5555555555555556,
              "#d8576b"
             ],
             [
              0.6666666666666666,
              "#ed7953"
             ],
             [
              0.7777777777777778,
              "#fb9f3a"
             ],
             [
              0.8888888888888888,
              "#fdca26"
             ],
             [
              1.0,
              "#f0f921"
             ]
            ],
            "type": "surface"
           }
          ],
          "table": [
           {
            "cells": {
             "fill": {
              "color": "#EBF0F8"
             },
             "line": {
              "color": "white"
             }
            },
            "header": {
             "fill": {
              "color": "#C8D4E3"
             },
             "line": {
              "color": "white"
             }
            },
            "type": "table"
           }
          ]
         },
         "layout": {
          "annotationdefaults": {
           "arrowcolor": "#2a3f5f",
           "arrowhead": 0,
           "arrowwidth": 1
          },
          "autotypenumbers": "strict",
          "coloraxis": {
           "colorbar": {
            "outlinewidth": 0,
            "ticks": ""
           }
          },
          "colorscale": {
           "diverging": [
            [
             0,
             "#8e0152"
            ],
            [
             0.1,
             "#c51b7d"
            ],
            [
             0.2,
             "#de77ae"
            ],
            [
             0.3,
             "#f1b6da"
            ],
            [
             0.4,
             "#fde0ef"
            ],
            [
             0.5,
             "#f7f7f7"
            ],
            [
             0.6,
             "#e6f5d0"
            ],
            [
             0.7,
             "#b8e186"
            ],
            [
             0.8,
             "#7fbc41"
            ],
            [
             0.9,
             "#4d9221"
            ],
            [
             1,
             "#276419"
            ]
           ],
           "sequential": [
            [
             0.0,
             "#0d0887"
            ],
            [
             0.1111111111111111,
             "#46039f"
            ],
            [
             0.2222222222222222,
             "#7201a8"
            ],
            [
             0.3333333333333333,
             "#9c179e"
            ],
            [
             0.4444444444444444,
             "#bd3786"
            ],
            [
             0.5555555555555556,
             "#d8576b"
            ],
            [
             0.6666666666666666,
             "#ed7953"
            ],
            [
             0.7777777777777778,
             "#fb9f3a"
            ],
            [
             0.8888888888888888,
             "#fdca26"
            ],
            [
             1.0,
             "#f0f921"
            ]
           ],
           "sequentialminus": [
            [
             0.0,
             "#0d0887"
            ],
            [
             0.1111111111111111,
             "#46039f"
            ],
            [
             0.2222222222222222,
             "#7201a8"
            ],
            [
             0.3333333333333333,
             "#9c179e"
            ],
            [
             0.4444444444444444,
             "#bd3786"
            ],
            [
             0.5555555555555556,
             "#d8576b"
            ],
            [
             0.6666666666666666,
             "#ed7953"
            ],
            [
             0.7777777777777778,
             "#fb9f3a"
            ],
            [
             0.8888888888888888,
             "#fdca26"
            ],
            [
             1.0,
             "#f0f921"
            ]
           ]
          },
          "colorway": [
           "#636efa",
           "#EF553B",
           "#00cc96",
           "#ab63fa",
           "#FFA15A",
           "#19d3f3",
           "#FF6692",
           "#B6E880",
           "#FF97FF",
           "#FECB52"
          ],
          "font": {
           "color": "#2a3f5f"
          },
          "geo": {
           "bgcolor": "white",
           "lakecolor": "white",
           "landcolor": "white",
           "showlakes": true,
           "showland": true,
           "subunitcolor": "#C8D4E3"
          },
          "hoverlabel": {
           "align": "left"
          },
          "hovermode": "closest",
          "mapbox": {
           "style": "light"
          },
          "paper_bgcolor": "white",
          "plot_bgcolor": "white",
          "polar": {
           "angularaxis": {
            "gridcolor": "#EBF0F8",
            "linecolor": "#EBF0F8",
            "ticks": ""
           },
           "bgcolor": "white",
           "radialaxis": {
            "gridcolor": "#EBF0F8",
            "linecolor": "#EBF0F8",
            "ticks": ""
           }
          },
          "scene": {
           "xaxis": {
            "backgroundcolor": "white",
            "gridcolor": "#DFE8F3",
            "gridwidth": 2,
            "linecolor": "#EBF0F8",
            "showbackground": true,
            "ticks": "",
            "zerolinecolor": "#EBF0F8"
           },
           "yaxis": {
            "backgroundcolor": "white",
            "gridcolor": "#DFE8F3",
            "gridwidth": 2,
            "linecolor": "#EBF0F8",
            "showbackground": true,
            "ticks": "",
            "zerolinecolor": "#EBF0F8"
           },
           "zaxis": {
            "backgroundcolor": "white",
            "gridcolor": "#DFE8F3",
            "gridwidth": 2,
            "linecolor": "#EBF0F8",
            "showbackground": true,
            "ticks": "",
            "zerolinecolor": "#EBF0F8"
           }
          },
          "shapedefaults": {
           "line": {
            "color": "#2a3f5f"
           }
          },
          "ternary": {
           "aaxis": {
            "gridcolor": "#DFE8F3",
            "linecolor": "#A2B1C6",
            "ticks": ""
           },
           "baxis": {
            "gridcolor": "#DFE8F3",
            "linecolor": "#A2B1C6",
            "ticks": ""
           },
           "bgcolor": "white",
           "caxis": {
            "gridcolor": "#DFE8F3",
            "linecolor": "#A2B1C6",
            "ticks": ""
           }
          },
          "title": {
           "x": 0.05
          },
          "xaxis": {
           "automargin": true,
           "gridcolor": "#EBF0F8",
           "linecolor": "#EBF0F8",
           "ticks": "",
           "title": {
            "standoff": 15
           },
           "zerolinecolor": "#EBF0F8",
           "zerolinewidth": 2
          },
          "yaxis": {
           "automargin": true,
           "gridcolor": "#EBF0F8",
           "linecolor": "#EBF0F8",
           "ticks": "",
           "title": {
            "standoff": 15
           },
           "zerolinecolor": "#EBF0F8",
           "zerolinewidth": 2
          }
         }
        },
        "xaxis": {
         "anchor": "y",
         "domain": [
          0.0,
          1.0
         ],
         "title": {
          "text": "Condition"
         },
         "tickangle": -45
        },
        "yaxis": {
         "anchor": "x",
         "domain": [
          0.0,
          1.0
         ],
         "title": {
          "text": "Prevalence (%)"
         }
        },
        "legend": {
         "tracegroupgap": 0
        },
        "title": {
         "text": "Prevalence of Specific Mental Health Conditions in Tech Industry",
         "x": 0.5
        },
        "barmode": "relative",
        "showlegend": false
       },
       "config": {
        "plotlyServerURL": "https://plot.ly"
       }
      },
      "text/html": [
       "<div>                            <div id=\"02bdb7a9-c9f4-4013-a802-08f6573322f2\" class=\"plotly-graph-div\" style=\"height:525px; width:100%;\"></div>            <script type=\"text/javascript\">                require([\"plotly\"], function(Plotly) {                    window.PLOTLYENV=window.PLOTLYENV || {};                                    if (document.getElementById(\"02bdb7a9-c9f4-4013-a802-08f6573322f2\")) {                    Plotly.newPlot(                        \"02bdb7a9-c9f4-4013-a802-08f6573322f2\",                        [{\"alignmentgroup\":\"True\",\"error_y\":{\"array\":[{\"array\":[2.4007685777890657]},{\"array\":[2.283088044274283]},{\"array\":[2.397777157344379]},{\"array\":[0.3244554373212907]},{\"array\":[0.3244554373212907]}],\"arrayminus\":[{\"array\":[2.2878897648565584]},{\"array\":[2.144834820500755]},{\"array\":[2.2841520382106673]},{\"array\":[0.057464393839612424]},{\"array\":[0.057464393839612424]}]},\"hovertemplate\":\"\\u003cb\\u003e%{x}\\u003c\\u002fb\\u003e\\u003cbr\\u003ePrevalence: %{y:.1f}%\\u003cbr\\u003e95% CI: (%{customdata[0]:.1f}% - %{customdata[1]:.1f}%)\\u003cbr\\u003eCount: %{customdata[2]}\\u003cbr\\u003e\\u003cextra\\u003e\\u003c\\u002fextra\\u003e\",\"legendgroup\":\"\",\"marker\":{\"color\":\"#636efa\",\"pattern\":{\"shape\":\"\"}},\"name\":\"\",\"offsetgroup\":\"\",\"orientation\":\"v\",\"showlegend\":false,\"textposition\":\"auto\",\"x\":[\"DEPRESSION\",\"ANXIETY\",\"BIPOLAR DISORDER\",\"PTSD\",\"ADHD\"],\"xaxis\":\"x\",\"y\":[28.890439637124913,24.145150034891834,28.75087229588276,0.06978367062107467,0.06978367062107467],\"yaxis\":\"y\",\"type\":\"bar\",\"customdata\":[[26.602549872268355,31.29120821491398,414.0],[22.00031521439108,26.428238079166118,346.0],[26.466720257672094,31.14864945322714,412.0],[0.012319276781462248,0.39423910794236533,1.0],[0.012319276781462248,0.39423910794236533,1.0]]}],                        {\"template\":{\"data\":{\"barpolar\":[{\"marker\":{\"line\":{\"color\":\"white\",\"width\":0.5},\"pattern\":{\"fillmode\":\"overlay\",\"size\":10,\"solidity\":0.2}},\"type\":\"barpolar\"}],\"bar\":[{\"error_x\":{\"color\":\"#2a3f5f\"},\"error_y\":{\"color\":\"#2a3f5f\"},\"marker\":{\"line\":{\"color\":\"white\",\"width\":0.5},\"pattern\":{\"fillmode\":\"overlay\",\"size\":10,\"solidity\":0.2}},\"type\":\"bar\"}],\"carpet\":[{\"aaxis\":{\"endlinecolor\":\"#2a3f5f\",\"gridcolor\":\"#C8D4E3\",\"linecolor\":\"#C8D4E3\",\"minorgridcolor\":\"#C8D4E3\",\"startlinecolor\":\"#2a3f5f\"},\"baxis\":{\"endlinecolor\":\"#2a3f5f\",\"gridcolor\":\"#C8D4E3\",\"linecolor\":\"#C8D4E3\",\"minorgridcolor\":\"#C8D4E3\",\"startlinecolor\":\"#2a3f5f\"},\"type\":\"carpet\"}],\"choropleth\":[{\"colorbar\":{\"outlinewidth\":0,\"ticks\":\"\"},\"type\":\"choropleth\"}],\"contourcarpet\":[{\"colorbar\":{\"outlinewidth\":0,\"ticks\":\"\"},\"type\":\"contourcarpet\"}],\"contour\":[{\"colorbar\":{\"outlinewidth\":0,\"ticks\":\"\"},\"colorscale\":[[0.0,\"#0d0887\"],[0.1111111111111111,\"#46039f\"],[0.2222222222222222,\"#7201a8\"],[0.3333333333333333,\"#9c179e\"],[0.4444444444444444,\"#bd3786\"],[0.5555555555555556,\"#d8576b\"],[0.6666666666666666,\"#ed7953\"],[0.7777777777777778,\"#fb9f3a\"],[0.8888888888888888,\"#fdca26\"],[1.0,\"#f0f921\"]],\"type\":\"contour\"}],\"heatmapgl\":[{\"colorbar\":{\"outlinewidth\":0,\"ticks\":\"\"},\"colorscale\":[[0.0,\"#0d0887\"],[0.1111111111111111,\"#46039f\"],[0.2222222222222222,\"#7201a8\"],[0.3333333333333333,\"#9c179e\"],[0.4444444444444444,\"#bd3786\"],[0.5555555555555556,\"#d8576b\"],[0.6666666666666666,\"#ed7953\"],[0.7777777777777778,\"#fb9f3a\"],[0.8888888888888888,\"#fdca26\"],[1.0,\"#f0f921\"]],\"type\":\"heatmapgl\"}],\"heatmap\":[{\"colorbar\":{\"outlinewidth\":0,\"ticks\":\"\"},\"colorscale\":[[0.0,\"#0d0887\"],[0.1111111111111111,\"#46039f\"],[0.2222222222222222,\"#7201a8\"],[0.3333333333333333,\"#9c179e\"],[0.4444444444444444,\"#bd3786\"],[0.5555555555555556,\"#d8576b\"],[0.6666666666666666,\"#ed7953\"],[0.7777777777777778,\"#fb9f3a\"],[0.8888888888888888,\"#fdca26\"],[1.0,\"#f0f921\"]],\"type\":\"heatmap\"}],\"histogram2dcontour\":[{\"colorbar\":{\"outlinewidth\":0,\"ticks\":\"\"},\"colorscale\":[[0.0,\"#0d0887\"],[0.1111111111111111,\"#46039f\"],[0.2222222222222222,\"#7201a8\"],[0.3333333333333333,\"#9c179e\"],[0.4444444444444444,\"#bd3786\"],[0.5555555555555556,\"#d8576b\"],[0.6666666666666666,\"#ed7953\"],[0.7777777777777778,\"#fb9f3a\"],[0.8888888888888888,\"#fdca26\"],[1.0,\"#f0f921\"]],\"type\":\"histogram2dcontour\"}],\"histogram2d\":[{\"colorbar\":{\"outlinewidth\":0,\"ticks\":\"\"},\"colorscale\":[[0.0,\"#0d0887\"],[0.1111111111111111,\"#46039f\"],[0.2222222222222222,\"#7201a8\"],[0.3333333333333333,\"#9c179e\"],[0.4444444444444444,\"#bd3786\"],[0.5555555555555556,\"#d8576b\"],[0.6666666666666666,\"#ed7953\"],[0.7777777777777778,\"#fb9f3a\"],[0.8888888888888888,\"#fdca26\"],[1.0,\"#f0f921\"]],\"type\":\"histogram2d\"}],\"histogram\":[{\"marker\":{\"pattern\":{\"fillmode\":\"overlay\",\"size\":10,\"solidity\":0.2}},\"type\":\"histogram\"}],\"mesh3d\":[{\"colorbar\":{\"outlinewidth\":0,\"ticks\":\"\"},\"type\":\"mesh3d\"}],\"parcoords\":[{\"line\":{\"colorbar\":{\"outlinewidth\":0,\"ticks\":\"\"}},\"type\":\"parcoords\"}],\"pie\":[{\"automargin\":true,\"type\":\"pie\"}],\"scatter3d\":[{\"line\":{\"colorbar\":{\"outlinewidth\":0,\"ticks\":\"\"}},\"marker\":{\"colorbar\":{\"outlinewidth\":0,\"ticks\":\"\"}},\"type\":\"scatter3d\"}],\"scattercarpet\":[{\"marker\":{\"colorbar\":{\"outlinewidth\":0,\"ticks\":\"\"}},\"type\":\"scattercarpet\"}],\"scattergeo\":[{\"marker\":{\"colorbar\":{\"outlinewidth\":0,\"ticks\":\"\"}},\"type\":\"scattergeo\"}],\"scattergl\":[{\"marker\":{\"colorbar\":{\"outlinewidth\":0,\"ticks\":\"\"}},\"type\":\"scattergl\"}],\"scattermapbox\":[{\"marker\":{\"colorbar\":{\"outlinewidth\":0,\"ticks\":\"\"}},\"type\":\"scattermapbox\"}],\"scatterpolargl\":[{\"marker\":{\"colorbar\":{\"outlinewidth\":0,\"ticks\":\"\"}},\"type\":\"scatterpolargl\"}],\"scatterpolar\":[{\"marker\":{\"colorbar\":{\"outlinewidth\":0,\"ticks\":\"\"}},\"type\":\"scatterpolar\"}],\"scatter\":[{\"fillpattern\":{\"fillmode\":\"overlay\",\"size\":10,\"solidity\":0.2},\"type\":\"scatter\"}],\"scatterternary\":[{\"marker\":{\"colorbar\":{\"outlinewidth\":0,\"ticks\":\"\"}},\"type\":\"scatterternary\"}],\"surface\":[{\"colorbar\":{\"outlinewidth\":0,\"ticks\":\"\"},\"colorscale\":[[0.0,\"#0d0887\"],[0.1111111111111111,\"#46039f\"],[0.2222222222222222,\"#7201a8\"],[0.3333333333333333,\"#9c179e\"],[0.4444444444444444,\"#bd3786\"],[0.5555555555555556,\"#d8576b\"],[0.6666666666666666,\"#ed7953\"],[0.7777777777777778,\"#fb9f3a\"],[0.8888888888888888,\"#fdca26\"],[1.0,\"#f0f921\"]],\"type\":\"surface\"}],\"table\":[{\"cells\":{\"fill\":{\"color\":\"#EBF0F8\"},\"line\":{\"color\":\"white\"}},\"header\":{\"fill\":{\"color\":\"#C8D4E3\"},\"line\":{\"color\":\"white\"}},\"type\":\"table\"}]},\"layout\":{\"annotationdefaults\":{\"arrowcolor\":\"#2a3f5f\",\"arrowhead\":0,\"arrowwidth\":1},\"autotypenumbers\":\"strict\",\"coloraxis\":{\"colorbar\":{\"outlinewidth\":0,\"ticks\":\"\"}},\"colorscale\":{\"diverging\":[[0,\"#8e0152\"],[0.1,\"#c51b7d\"],[0.2,\"#de77ae\"],[0.3,\"#f1b6da\"],[0.4,\"#fde0ef\"],[0.5,\"#f7f7f7\"],[0.6,\"#e6f5d0\"],[0.7,\"#b8e186\"],[0.8,\"#7fbc41\"],[0.9,\"#4d9221\"],[1,\"#276419\"]],\"sequential\":[[0.0,\"#0d0887\"],[0.1111111111111111,\"#46039f\"],[0.2222222222222222,\"#7201a8\"],[0.3333333333333333,\"#9c179e\"],[0.4444444444444444,\"#bd3786\"],[0.5555555555555556,\"#d8576b\"],[0.6666666666666666,\"#ed7953\"],[0.7777777777777778,\"#fb9f3a\"],[0.8888888888888888,\"#fdca26\"],[1.0,\"#f0f921\"]],\"sequentialminus\":[[0.0,\"#0d0887\"],[0.1111111111111111,\"#46039f\"],[0.2222222222222222,\"#7201a8\"],[0.3333333333333333,\"#9c179e\"],[0.4444444444444444,\"#bd3786\"],[0.5555555555555556,\"#d8576b\"],[0.6666666666666666,\"#ed7953\"],[0.7777777777777778,\"#fb9f3a\"],[0.8888888888888888,\"#fdca26\"],[1.0,\"#f0f921\"]]},\"colorway\":[\"#636efa\",\"#EF553B\",\"#00cc96\",\"#ab63fa\",\"#FFA15A\",\"#19d3f3\",\"#FF6692\",\"#B6E880\",\"#FF97FF\",\"#FECB52\"],\"font\":{\"color\":\"#2a3f5f\"},\"geo\":{\"bgcolor\":\"white\",\"lakecolor\":\"white\",\"landcolor\":\"white\",\"showlakes\":true,\"showland\":true,\"subunitcolor\":\"#C8D4E3\"},\"hoverlabel\":{\"align\":\"left\"},\"hovermode\":\"closest\",\"mapbox\":{\"style\":\"light\"},\"paper_bgcolor\":\"white\",\"plot_bgcolor\":\"white\",\"polar\":{\"angularaxis\":{\"gridcolor\":\"#EBF0F8\",\"linecolor\":\"#EBF0F8\",\"ticks\":\"\"},\"bgcolor\":\"white\",\"radialaxis\":{\"gridcolor\":\"#EBF0F8\",\"linecolor\":\"#EBF0F8\",\"ticks\":\"\"}},\"scene\":{\"xaxis\":{\"backgroundcolor\":\"white\",\"gridcolor\":\"#DFE8F3\",\"gridwidth\":2,\"linecolor\":\"#EBF0F8\",\"showbackground\":true,\"ticks\":\"\",\"zerolinecolor\":\"#EBF0F8\"},\"yaxis\":{\"backgroundcolor\":\"white\",\"gridcolor\":\"#DFE8F3\",\"gridwidth\":2,\"linecolor\":\"#EBF0F8\",\"showbackground\":true,\"ticks\":\"\",\"zerolinecolor\":\"#EBF0F8\"},\"zaxis\":{\"backgroundcolor\":\"white\",\"gridcolor\":\"#DFE8F3\",\"gridwidth\":2,\"linecolor\":\"#EBF0F8\",\"showbackground\":true,\"ticks\":\"\",\"zerolinecolor\":\"#EBF0F8\"}},\"shapedefaults\":{\"line\":{\"color\":\"#2a3f5f\"}},\"ternary\":{\"aaxis\":{\"gridcolor\":\"#DFE8F3\",\"linecolor\":\"#A2B1C6\",\"ticks\":\"\"},\"baxis\":{\"gridcolor\":\"#DFE8F3\",\"linecolor\":\"#A2B1C6\",\"ticks\":\"\"},\"bgcolor\":\"white\",\"caxis\":{\"gridcolor\":\"#DFE8F3\",\"linecolor\":\"#A2B1C6\",\"ticks\":\"\"}},\"title\":{\"x\":0.05},\"xaxis\":{\"automargin\":true,\"gridcolor\":\"#EBF0F8\",\"linecolor\":\"#EBF0F8\",\"ticks\":\"\",\"title\":{\"standoff\":15},\"zerolinecolor\":\"#EBF0F8\",\"zerolinewidth\":2},\"yaxis\":{\"automargin\":true,\"gridcolor\":\"#EBF0F8\",\"linecolor\":\"#EBF0F8\",\"ticks\":\"\",\"title\":{\"standoff\":15},\"zerolinecolor\":\"#EBF0F8\",\"zerolinewidth\":2}}},\"xaxis\":{\"anchor\":\"y\",\"domain\":[0.0,1.0],\"title\":{\"text\":\"Condition\"},\"tickangle\":-45},\"yaxis\":{\"anchor\":\"x\",\"domain\":[0.0,1.0],\"title\":{\"text\":\"Prevalence (%)\"}},\"legend\":{\"tracegroupgap\":0},\"title\":{\"text\":\"Prevalence of Specific Mental Health Conditions in Tech Industry\",\"x\":0.5},\"barmode\":\"relative\",\"showlegend\":false},                        {\"responsive\": true}                    ).then(function(){\n",
       "                            \n",
       "var gd = document.getElementById('02bdb7a9-c9f4-4013-a802-08f6573322f2');\n",
       "var x = new MutationObserver(function (mutations, observer) {{\n",
       "        var display = window.getComputedStyle(gd).display;\n",
       "        if (!display || display === 'none') {{\n",
       "            console.log([gd, 'removed!']);\n",
       "            Plotly.purge(gd);\n",
       "            observer.disconnect();\n",
       "        }}\n",
       "}});\n",
       "\n",
       "// Listen for the removal of the full notebook cells\n",
       "var notebookContainer = gd.closest('#notebook-container');\n",
       "if (notebookContainer) {{\n",
       "    x.observe(notebookContainer, {childList: true});\n",
       "}}\n",
       "\n",
       "// Listen for the clearing of the current output cell\n",
       "var outputEl = gd.closest('.output');\n",
       "if (outputEl) {{\n",
       "    x.observe(outputEl, {childList: true});\n",
       "}}\n",
       "\n",
       "                        })                };                });            </script>        </div>"
      ]
     },
     "metadata": {},
     "output_type": "display_data"
    },
    {
     "name": "stdout",
     "output_type": "stream",
     "text": [
      "\n",
      "Detailed Statistics:\n",
      "\n",
      "DEPRESSION:\n",
      "Prevalence: 28.9%\n",
      "95% CI: (26.6% - 31.3%)\n",
      "Count: 414\n",
      "\n",
      "ANXIETY:\n",
      "Prevalence: 24.1%\n",
      "95% CI: (22.0% - 26.4%)\n",
      "Count: 346\n",
      "\n",
      "BIPOLAR DISORDER:\n",
      "Prevalence: 28.8%\n",
      "95% CI: (26.5% - 31.1%)\n",
      "Count: 412\n",
      "\n",
      "PTSD:\n",
      "Prevalence: 0.1%\n",
      "95% CI: (0.0% - 0.4%)\n",
      "Count: 1\n",
      "\n",
      "ADHD:\n",
      "Prevalence: 0.1%\n",
      "95% CI: (0.0% - 0.4%)\n",
      "Count: 1\n"
     ]
    }
   ],
   "execution_count": 37
  },
  {
   "metadata": {
    "ExecuteTime": {
     "end_time": "2024-11-12T06:57:27.757767Z",
     "start_time": "2024-11-12T06:57:27.756118Z"
    }
   },
   "cell_type": "code",
   "source": "",
   "id": "3014c6d2cc0449df",
   "outputs": [],
   "execution_count": null
  }
 ],
 "metadata": {
  "kernelspec": {
   "display_name": "Python 3",
   "language": "python",
   "name": "python3"
  },
  "language_info": {
   "codemirror_mode": {
    "name": "ipython",
    "version": 2
   },
   "file_extension": ".py",
   "mimetype": "text/x-python",
   "name": "python",
   "nbconvert_exporter": "python",
   "pygments_lexer": "ipython2",
   "version": "2.7.6"
  }
 },
 "nbformat": 4,
 "nbformat_minor": 5
}
