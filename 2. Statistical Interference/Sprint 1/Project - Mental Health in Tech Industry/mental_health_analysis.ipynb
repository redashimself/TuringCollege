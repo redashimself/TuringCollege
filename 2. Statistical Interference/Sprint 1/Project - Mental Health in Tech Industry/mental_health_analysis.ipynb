{
 "cells": [
  {
   "metadata": {},
   "cell_type": "markdown",
   "source": [
    "# Notes\n",
    "- Use pip freeze to generate requirements.txt\n",
    "- Group data for each year (SQL select) into a dataframe"
   ],
   "id": "c47814ff66876cea"
  },
  {
   "metadata": {},
   "cell_type": "markdown",
   "source": [
    "# Requirements\n",
    "\n",
    "* Query the dataset using sqlite. Only load the final dataset into a dataframe.\n",
    "\n",
    "* Give an overview of the respondents of the survey. What is the sample size?\n",
    "* What are the sociodemographic features of the respondents? Do you see any evidence of sampling bias?\n",
    "* Perform exploratory data analysis. This should include creating statistical summaries and charts, checking for correlations and other relationships between variables, as well as other EDA elements.\n",
    "* In a plot, report the prevalence rate of at least three mental diseases. (https://en.wikipedia.org/wiki/Prevalence)\n",
    "* Make sure to plot the confidence interval and provide its interpretation.\n",
    "* Your notebook should be readable as a standalone document. In Markdown cells inform the reader of the questions you are trying to answer, and provide an interpretation of your results.\n",
    "* Provide suggestions about how your analysis can be improved.\n",
    "# Questions to answer\n",
    "\n",
    "- What are the main types and subtypes of data?\n",
    "- What are the main metrics of location? What are their main characteristics?\n",
    "- What is variability? What are the main metrics of variability and their characteristics?\n",
    "- What is a confidence interval? Why do we need it? Why is it not sufficient to just report the point estimates?\n",
    "- What is correlation? How do we use it to analyze data?\n",
    "- What is a contingency table?\n",
    "\n"
   ],
   "id": "4ae730b133ba8c76"
  }
 ],
 "metadata": {
  "kernelspec": {
   "display_name": "Python 3",
   "language": "python",
   "name": "python3"
  },
  "language_info": {
   "codemirror_mode": {
    "name": "ipython",
    "version": 2
   },
   "file_extension": ".py",
   "mimetype": "text/x-python",
   "name": "python",
   "nbconvert_exporter": "python",
   "pygments_lexer": "ipython2",
   "version": "2.7.6"
  }
 },
 "nbformat": 4,
 "nbformat_minor": 5
}
